{
 "cells": [
  {
   "cell_type": "markdown",
   "metadata": {},
   "source": [
    "### **Review of the libraries**"
   ]
  },
  {
   "cell_type": "markdown",
   "metadata": {},
   "source": [
    "**Learning outcomes:**\n",
    "- Load .nii.gz/.nii images using AntsPy and SITK\n",
    "- Get basic information\n",
    "- Get numpy representation\n",
    "- Plot MRI images"
   ]
  },
  {
   "metadata": {
    "ExecuteTime": {
     "end_time": "2025-01-07T17:38:56.867624Z",
     "start_time": "2025-01-07T17:38:56.851992Z"
    }
   },
   "cell_type": "code",
   "source": "print(\"hello\")",
   "outputs": [
    {
     "name": "stdout",
     "output_type": "stream",
     "text": [
      "hello\n"
     ]
    }
   ],
   "execution_count": 2
  },
  {
   "metadata": {
    "jupyter": {
     "is_executing": true
    },
    "ExecuteTime": {
     "start_time": "2025-01-07T17:41:06.132149Z"
    }
   },
   "cell_type": "code",
   "source": [
    "%matplotlib inline\n",
    "\n",
    "import os\n",
    "# from helpers import *\n",
    "\n",
    "import ants\n",
    "import SimpleITK as sitk\n",
    "\n",
    "# print(f'AntsPy version = {ants.__version__}')\n",
    "# print(f'SimpleITK version = {sitk.__version__}')"
   ],
   "outputs": [],
   "execution_count": null
  },
  {
   "cell_type": "code",
   "metadata": {},
   "source": [
    "BASE_DIR = os.path.dirname(os.path.dirname(os.path.abspath(\"__file__\")))\n",
    "print(f'project folder = {BASE_DIR}')"
   ],
   "outputs": [],
   "execution_count": null
  },
  {
   "cell_type": "code",
   "metadata": {},
   "source": [
    "raw_img_path = os.path.join(BASE_DIR, 'assets', 'raw_examples', 'fsl-open-dev_sub-001_T1w.nii.gz')\n",
    "print(f'raw_img_path = {raw_img_path}')"
   ],
   "outputs": [],
   "execution_count": null
  },
  {
   "cell_type": "markdown",
   "metadata": {},
   "source": [
    "### AntsPY"
   ]
  },
  {
   "cell_type": "code",
   "metadata": {},
   "source": [
    "raw_img_ants = ants.image_read(raw_img_path)"
   ],
   "outputs": [],
   "execution_count": null
  },
  {
   "cell_type": "code",
   "metadata": {},
   "source": [
    "print(raw_img_ants)"
   ],
   "outputs": [],
   "execution_count": null
  },
  {
   "cell_type": "code",
   "metadata": {},
   "source": [
    "raw_img_ants_arr = raw_img_ants.numpy()\n",
    "\n",
    "print(f'type = {type(raw_img_ants_arr)}')\n",
    "print(f'shape = {raw_img_ants_arr.shape}')"
   ],
   "outputs": [],
   "execution_count": null
  },
  {
   "cell_type": "code",
   "metadata": {},
   "source": [
    "ants.plot(raw_img_ants, figsize=3, axis=2)"
   ],
   "outputs": [],
   "execution_count": null
  },
  {
   "cell_type": "code",
   "metadata": {},
   "source": [
    "explore_3D_array(raw_img_ants_arr)"
   ],
   "outputs": [],
   "execution_count": null
  },
  {
   "cell_type": "markdown",
   "metadata": {},
   "source": [
    "### Simple ITK"
   ]
  },
  {
   "cell_type": "code",
   "metadata": {},
   "source": [
    "raw_img_sitk = sitk.ReadImage(raw_img_path, sitk.sitkFloat32)"
   ],
   "outputs": [],
   "execution_count": null
  },
  {
   "cell_type": "code",
   "metadata": {},
   "source": [
    "#print(raw_img_sitk)"
   ],
   "outputs": [],
   "execution_count": null
  },
  {
   "cell_type": "code",
   "metadata": {},
   "source": [
    "show_sitk_img_info(raw_img_sitk)"
   ],
   "outputs": [],
   "execution_count": null
  },
  {
   "cell_type": "code",
   "metadata": {},
   "source": [
    "raw_img_sitk_arr = sitk.GetArrayFromImage(raw_img_sitk)\n",
    "\n",
    "print(f'type = {type(raw_img_sitk_arr)}')\n",
    "print(f'shape = {raw_img_sitk_arr.shape}')"
   ],
   "outputs": [],
   "execution_count": null
  },
  {
   "cell_type": "code",
   "metadata": {},
   "source": [
    "#sitk.Show(raw_img_sitk)"
   ],
   "outputs": [],
   "execution_count": null
  },
  {
   "cell_type": "code",
   "metadata": {},
   "source": [
    "explore_3D_array(raw_img_sitk_arr)"
   ],
   "outputs": [],
   "execution_count": null
  }
 ],
 "metadata": {
  "kernelspec": {
   "display_name": ".venv",
   "language": "python",
   "name": "python3"
  },
  "language_info": {
   "codemirror_mode": {
    "name": "ipython",
    "version": 3
   },
   "file_extension": ".py",
   "mimetype": "text/x-python",
   "name": "python",
   "nbconvert_exporter": "python",
   "pygments_lexer": "ipython3",
   "version": "3.13.1"
  }
 },
 "nbformat": 4,
 "nbformat_minor": 4
}
