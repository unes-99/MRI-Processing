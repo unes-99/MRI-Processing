{
 "cells": [
  {
   "cell_type": "markdown",
   "metadata": {},
   "source": [
    "### Image Orientation"
   ]
  },
  {
   "cell_type": "markdown",
   "metadata": {},
   "source": [
    "**Learning outcomes:**\n",
    "- Load .nii.gz/.nii images using AntsPy and SITK using different orientations"
   ]
  },
  {
   "cell_type": "code",
   "metadata": {
    "ExecuteTime": {
     "end_time": "2025-01-12T07:41:20.797320Z",
     "start_time": "2025-01-12T07:41:15.506907Z"
    }
   },
   "source": [
    "%matplotlib inline\n",
    "\n",
    "import os\n",
    "from helpers import *\n",
    "\n",
    "import ants\n",
    "# noinspection PyPep8Naming\n",
    "import SimpleITK as sitk\n",
    "\n",
    "print(f'AntsPy version = {ants.__version__}')\n",
    "print(f'SimpleITK version = {sitk.__version__}')"
   ],
   "outputs": [
    {
     "name": "stdout",
     "output_type": "stream",
     "text": [
      "AntsPy version = 0.5.4\n",
      "SimpleITK version = 2.2.1\n"
     ]
    }
   ],
   "execution_count": 1
  },
  {
   "cell_type": "code",
   "metadata": {
    "ExecuteTime": {
     "end_time": "2025-01-12T07:41:26.320519Z",
     "start_time": "2025-01-12T07:41:26.304382Z"
    }
   },
   "source": [
    "BASE_DIR = os.path.dirname(os.path.dirname(os.path.abspath(\"__file__\")))\n",
    "print(f'project folder = {BASE_DIR}')"
   ],
   "outputs": [
    {
     "name": "stdout",
     "output_type": "stream",
     "text": [
      "project folder = C:\\Users\\Rost\\PycharmProjects\\MRI-preprocessing-techniques\n"
     ]
    }
   ],
   "execution_count": 2
  },
  {
   "cell_type": "code",
   "metadata": {
    "ExecuteTime": {
     "end_time": "2025-01-12T07:41:28.010241Z",
     "start_time": "2025-01-12T07:41:27.992628Z"
    }
   },
   "source": [
    "raw_examples = [\n",
    "    'fsl-open-dev_sub-001_T1w.nii.gz',\n",
    "    'wash-120_sub-001_T1w.nii.gz',\n",
    "    'kf-panda_sub-01_ses-3T_T1w.nii.gz',\n",
    "    'listen-task_sub-UTS01_ses-1_T1w.nii.gz'\n",
    "]"
   ],
   "outputs": [],
   "execution_count": 3
  },
  {
   "cell_type": "markdown",
   "metadata": {},
   "source": [
    "### AntsPy"
   ]
  },
  {
   "cell_type": "code",
   "metadata": {
    "ExecuteTime": {
     "end_time": "2025-01-12T07:41:47.526792Z",
     "start_time": "2025-01-12T07:41:47.512780Z"
    }
   },
   "source": [
    "raw_img_path = os.path.join(BASE_DIR, 'assets', 'raw_examples', raw_examples[0])"
   ],
   "outputs": [],
   "execution_count": 4
  },
  {
   "cell_type": "code",
   "metadata": {
    "ExecuteTime": {
     "end_time": "2025-01-12T07:41:51.194471Z",
     "start_time": "2025-01-12T07:41:51.003812Z"
    }
   },
   "source": [
    "raw_img_ants = ants.image_read(raw_img_path) \n",
    "print(raw_img_ants)"
   ],
   "outputs": [
    {
     "name": "stdout",
     "output_type": "stream",
     "text": [
      "ANTsImage (LPI)\n",
      "\t Pixel Type : float (float32)\n",
      "\t Components : 1\n",
      "\t Dimensions : (160, 192, 192)\n",
      "\t Spacing    : (1.2, 1.25, 1.25)\n",
      "\t Origin     : (98.1114, 89.5975, -129.5975)\n",
      "\t Direction  : [-1.  0.  0.  0. -1.  0.  0.  0.  1.]\n",
      "\n"
     ]
    }
   ],
   "execution_count": 5
  },
  {
   "cell_type": "code",
   "metadata": {
    "ExecuteTime": {
     "end_time": "2025-01-12T07:42:23.020183Z",
     "start_time": "2025-01-12T07:42:23.005389Z"
    }
   },
   "source": [
    "# LPI = Left-to-right, Posterior-to-anterior, Inferior-to-superior\n",
    "print(raw_img_ants.get_orientation())"
   ],
   "outputs": [
    {
     "name": "stdout",
     "output_type": "stream",
     "text": [
      "LPI\n"
     ]
    }
   ],
   "execution_count": 6
  },
  {
   "cell_type": "code",
   "metadata": {
    "ExecuteTime": {
     "end_time": "2025-01-12T07:42:29.990250Z",
     "start_time": "2025-01-12T07:42:29.955602Z"
    }
   },
   "source": [
    "arr = raw_img_ants.numpy()\n",
    "print(raw_img_ants.get_orientation())\n",
    "print(arr.shape, '-> (Z,Y,X)')"
   ],
   "outputs": [
    {
     "name": "stdout",
     "output_type": "stream",
     "text": [
      "LPI\n",
      "(160, 192, 192) -> (Z,Y,X)\n"
     ]
    }
   ],
   "execution_count": 7
  },
  {
   "cell_type": "code",
   "metadata": {
    "ExecuteTime": {
     "end_time": "2025-01-12T07:42:50.744320Z",
     "start_time": "2025-01-12T07:42:50.021150Z"
    }
   },
   "source": [
    "# LPI = Left-to-right, Posterior-to-anterior, Inferior-to-superior\n",
    "arr = raw_img_ants.numpy()\n",
    "print(raw_img_ants.get_orientation())\n",
    "print(arr.shape, '-> (Z,Y,X)')\n",
    "explore_3D_array(arr=raw_img_ants.numpy()) "
   ],
   "outputs": [
    {
     "name": "stdout",
     "output_type": "stream",
     "text": [
      "LPI\n",
      "(160, 192, 192) -> (Z,Y,X)\n"
     ]
    },
    {
     "data": {
      "text/plain": [
       "interactive(children=(IntSlider(value=79, description='SLICE', max=159), Output()), _dom_classes=('widget-inte…"
      ],
      "application/vnd.jupyter.widget-view+json": {
       "version_major": 2,
       "version_minor": 0,
       "model_id": "f5e4e947749b4a38b95c08a4f0d05feb"
      }
     },
     "metadata": {},
     "output_type": "display_data"
    }
   ],
   "execution_count": 8
  },
  {
   "cell_type": "code",
   "metadata": {
    "ExecuteTime": {
     "end_time": "2025-01-12T07:43:45.265132Z",
     "start_time": "2025-01-12T07:43:45.251647Z"
    }
   },
   "source": [
    "# Pixel arrangement\n",
    "# Z, Y, X = (↑,↓,→)"
   ],
   "outputs": [],
   "execution_count": 9
  },
  {
   "cell_type": "code",
   "metadata": {
    "ExecuteTime": {
     "end_time": "2025-01-12T07:51:42.359270Z",
     "start_time": "2025-01-12T07:51:41.456611Z"
    }
   },
   "source": [
    "# LPI = Left-to-right, Posterior-to-anterior, Inferior-to-superior\n",
    "# IAL = Inferior-to-superior, Anterior-to-posterior, Left-to-right\n",
    "raw_img_ants = ants.image_read(raw_img_path, reorient='IAL') \n",
    "\n",
    "print(raw_img_ants.get_orientation())\n",
    "print(arr.shape, '-> (Z,Y,X)')\n",
    "explore_3D_array(arr=raw_img_ants.numpy()) "
   ],
   "outputs": [
    {
     "name": "stdout",
     "output_type": "stream",
     "text": [
      "IAL\n",
      "(160, 192, 192) -> (Z,Y,X)\n"
     ]
    },
    {
     "data": {
      "text/plain": [
       "interactive(children=(IntSlider(value=95, description='SLICE', max=191), Output()), _dom_classes=('widget-inte…"
      ],
      "application/vnd.jupyter.widget-view+json": {
       "version_major": 2,
       "version_minor": 0,
       "model_id": "1e7be59eb2e8491eaf368e47cb5ab952"
      }
     },
     "metadata": {},
     "output_type": "display_data"
    }
   ],
   "execution_count": 10
  },
  {
   "cell_type": "markdown",
   "metadata": {},
   "source": [
    "### Simple ITK"
   ]
  },
  {
   "cell_type": "code",
   "metadata": {
    "ExecuteTime": {
     "end_time": "2025-01-12T07:53:28.348833Z",
     "start_time": "2025-01-12T07:53:28.187212Z"
    }
   },
   "source": [
    "raw_img_path = os.path.join(BASE_DIR, 'assets', 'raw_examples', raw_examples[0])\n",
    "raw_img_sitk = sitk.ReadImage(raw_img_path, sitk.sitkFloat32)"
   ],
   "outputs": [],
   "execution_count": 11
  },
  {
   "cell_type": "code",
   "metadata": {
    "ExecuteTime": {
     "end_time": "2025-01-12T07:53:31.436440Z",
     "start_time": "2025-01-12T07:53:30.866143Z"
    }
   },
   "source": [
    "raw_img_sitk_arr = sitk.GetArrayFromImage(raw_img_sitk)\n",
    "print(raw_img_sitk_arr.shape)\n",
    "explore_3D_array(raw_img_sitk_arr)"
   ],
   "outputs": [
    {
     "name": "stdout",
     "output_type": "stream",
     "text": [
      "(192, 192, 160)\n"
     ]
    },
    {
     "data": {
      "text/plain": [
       "interactive(children=(IntSlider(value=95, description='SLICE', max=191), Output()), _dom_classes=('widget-inte…"
      ],
      "application/vnd.jupyter.widget-view+json": {
       "version_major": 2,
       "version_minor": 0,
       "model_id": "aef8c04b3d9c4a799df0e4f3a01f399c"
      }
     },
     "metadata": {},
     "output_type": "display_data"
    }
   ],
   "execution_count": 12
  },
  {
   "cell_type": "markdown",
   "metadata": {},
   "source": [
    "For AntsPy:\n",
    "- Internal axis are (Z,Y,X). It means, when we get numpy array dimensions are (Z,Y,X)\n",
    "- When we define orientation, orientation string is according to internal axis.\n",
    "\n",
    "For SimpleITK:\n",
    "- Internal axis are (X,Y,Z). It means, when we get numpy array dimensions are (Z,Y,X) i.e. shifted.\n",
    "- When we define orientation, orientation string is according to internal axis. \n",
    "- The orientation string is set with the latest letter, e.g. : \n",
    "    - \"RPS\" = (left-to-Right, anterior-to-Posterior, inferior-to-Superior)\n",
    "    - \"PSR\" = (anterior-to-Posterior, inferior-to-Superior, left-to-Right)"
   ]
  },
  {
   "cell_type": "code",
   "metadata": {
    "ExecuteTime": {
     "end_time": "2025-01-12T08:36:01.569946Z",
     "start_time": "2025-01-12T08:36:00.922631Z"
    }
   },
   "source": [
    "raw_img_sitk = sitk.ReadImage(raw_img_path, sitk.sitkFloat32)\n",
    "raw_img_sitk = sitk.DICOMOrient(raw_img_sitk,'RPS')\n",
    "\n",
    "raw_img_sitk_arr = sitk.GetArrayFromImage(raw_img_sitk)\n",
    "print(raw_img_sitk_arr.shape)\n",
    "explore_3D_array(raw_img_sitk_arr)"
   ],
   "outputs": [
    {
     "name": "stdout",
     "output_type": "stream",
     "text": [
      "(192, 192, 160)\n"
     ]
    },
    {
     "data": {
      "text/plain": [
       "interactive(children=(IntSlider(value=95, description='SLICE', max=191), Output()), _dom_classes=('widget-inte…"
      ],
      "application/vnd.jupyter.widget-view+json": {
       "version_major": 2,
       "version_minor": 0,
       "model_id": "4ab66f8c47e14193805bce8c23d4ef2a"
      }
     },
     "metadata": {},
     "output_type": "display_data"
    }
   ],
   "execution_count": 13
  },
  {
   "cell_type": "code",
   "metadata": {
    "ExecuteTime": {
     "end_time": "2025-01-12T08:36:07.577226Z",
     "start_time": "2025-01-12T08:36:07.552404Z"
    }
   },
   "source": [
    "# Internal Pixel arrangement for SimpleItk\n",
    "# (X, Y, Z) = (→, ↓, ↑)"
   ],
   "outputs": [],
   "execution_count": 14
  }
 ],
 "metadata": {
  "interpreter": {
   "hash": "418825faa255fc22419b3421ba9be6bb08852f7738a4e2e9757a921549f74527"
  },
  "kernelspec": {
   "display_name": "Python 3.7.1 ('.venv': venv)",
   "language": "python",
   "name": "python3"
  },
  "language_info": {
   "codemirror_mode": {
    "name": "ipython",
    "version": 3
   },
   "file_extension": ".py",
   "mimetype": "text/x-python",
   "name": "python",
   "nbconvert_exporter": "python",
   "pygments_lexer": "ipython3",
   "version": "3.7.1"
  },
  "orig_nbformat": 4
 },
 "nbformat": 4,
 "nbformat_minor": 2
}
