{
 "cells": [
  {
   "cell_type": "markdown",
   "metadata": {},
   "source": [
    "### Common operations"
   ]
  },
  {
   "cell_type": "markdown",
   "metadata": {},
   "source": [
    "**Learning outcomes:**\n",
    "- Learn how to apply basic filters and transformations using AntsPy and SITK:\n",
    "    - Denoise\n",
    "    - Morphological operations\n",
    "    - Shrink\n",
    "    - Cropping\n",
    "    - Padding\n",
    "    - Blurring\n",
    "    - Thresholding\n",
    "    - Statistics"
   ]
  },
  {
   "cell_type": "code",
   "metadata": {
    "ExecuteTime": {
     "end_time": "2025-01-12T08:45:42.937557Z",
     "start_time": "2025-01-12T08:45:37.183513Z"
    }
   },
   "source": [
    "%matplotlib inline\n",
    "\n",
    "import os\n",
    "from helpers import *\n",
    "\n",
    "import ants\n",
    "# noinspection PyPep8Naming\n",
    "import SimpleITK as sitk\n",
    "\n",
    "print(f'AntsPy version = {ants.__version__}')\n",
    "print(f'SimpleITK version = {sitk.__version__}')"
   ],
   "outputs": [
    {
     "name": "stdout",
     "output_type": "stream",
     "text": [
      "AntsPy version = 0.5.4\n",
      "SimpleITK version = 2.2.1\n"
     ]
    }
   ],
   "execution_count": 1
  },
  {
   "cell_type": "code",
   "metadata": {
    "ExecuteTime": {
     "end_time": "2025-01-12T08:46:10.770024Z",
     "start_time": "2025-01-12T08:46:10.751714Z"
    }
   },
   "source": [
    "BASE_DIR = os.path.dirname(os.path.dirname(os.path.abspath(\"__file__\")))\n",
    "print(f'project folder = {BASE_DIR}')"
   ],
   "outputs": [
    {
     "name": "stdout",
     "output_type": "stream",
     "text": [
      "project folder = C:\\Users\\Rost\\PycharmProjects\\MRI-preprocessing-techniques\n"
     ]
    }
   ],
   "execution_count": 2
  },
  {
   "cell_type": "code",
   "metadata": {
    "ExecuteTime": {
     "end_time": "2025-01-12T08:46:12.360447Z",
     "start_time": "2025-01-12T08:46:12.343649Z"
    }
   },
   "source": [
    "raw_examples = [\n",
    "    'fsl-open-dev_sub-001_T1w.nii.gz',\n",
    "    'wash-120_sub-001_T1w.nii.gz',\n",
    "    'kf-panda_sub-01_ses-3T_T1w.nii.gz',\n",
    "    'listen-task_sub-UTS01_ses-1_T1w.nii.gz'\n",
    "]"
   ],
   "outputs": [],
   "execution_count": 3
  },
  {
   "cell_type": "markdown",
   "metadata": {},
   "source": [
    "### AntsPy"
   ]
  },
  {
   "cell_type": "markdown",
   "metadata": {},
   "source": [
    "#### Raw Image"
   ]
  },
  {
   "cell_type": "code",
   "metadata": {
    "ExecuteTime": {
     "end_time": "2025-01-12T08:47:40.966618Z",
     "start_time": "2025-01-12T08:47:39.737601Z"
    }
   },
   "source": [
    "raw_img_path = os.path.join(BASE_DIR, 'assets', 'raw_examples', raw_examples[0])\n",
    "raw_img_ants = ants.image_read(raw_img_path, reorient='IAL') \n",
    "\n",
    "print(f'shape = {raw_img_ants.numpy().shape} -> (Z, X, Y)')\n",
    "\n",
    "explore_3D_array(\n",
    "    arr=raw_img_ants.numpy(),\n",
    "    cmap='viridis'\n",
    ")"
   ],
   "outputs": [
    {
     "name": "stdout",
     "output_type": "stream",
     "text": [
      "shape = (192, 192, 160) -> (Z, X, Y)\n"
     ]
    },
    {
     "data": {
      "text/plain": [
       "interactive(children=(IntSlider(value=95, description='SLICE', max=191), Output()), _dom_classes=('widget-inte…"
      ],
      "application/vnd.jupyter.widget-view+json": {
       "version_major": 2,
       "version_minor": 0,
       "model_id": "8e42728c796f4d73be0350cbf1848683"
      }
     },
     "metadata": {},
     "output_type": "display_data"
    }
   ],
   "execution_count": 5
  },
  {
   "cell_type": "markdown",
   "metadata": {},
   "source": [
    "#### Denoise"
   ]
  },
  {
   "cell_type": "code",
   "metadata": {
    "ExecuteTime": {
     "end_time": "2025-01-12T08:48:04.621054Z",
     "start_time": "2025-01-12T08:48:02.734992Z"
    }
   },
   "source": [
    "transformed = ants.denoise_image(raw_img_ants, shrink_factor=8)\n",
    "\n",
    "explore_3D_array_comparison(\n",
    "    arr_before=raw_img_ants.numpy(),\n",
    "    arr_after=transformed.numpy(),\n",
    "    cmap='viridis'\n",
    ")"
   ],
   "outputs": [
    {
     "data": {
      "text/plain": [
       "interactive(children=(IntSlider(value=95, description='SLICE', max=191), Output()), _dom_classes=('widget-inte…"
      ],
      "application/vnd.jupyter.widget-view+json": {
       "version_major": 2,
       "version_minor": 0,
       "model_id": "508ea05e82274e5c98a7c40843401b8c"
      }
     },
     "metadata": {},
     "output_type": "display_data"
    }
   ],
   "execution_count": 6
  },
  {
   "cell_type": "markdown",
   "metadata": {},
   "source": [
    "#### Morphological operations"
   ]
  },
  {
   "cell_type": "code",
   "metadata": {
    "ExecuteTime": {
     "end_time": "2025-01-12T08:50:36.082996Z",
     "start_time": "2025-01-12T08:50:30.501118Z"
    }
   },
   "source": [
    "\"\"\"\n",
    "operation to apply\n",
    "    \"close\" Morphological closing\n",
    "    \"dilate\" Morphological dilation\n",
    "    \"erode\" Morphological erosion\n",
    "    \"open\" Morphological opening\n",
    "\"\"\"\n",
    "\n",
    "transformed = ants.morphology(raw_img_ants, radius=1, operation='close', mtype='grayscale')\n",
    "\n",
    "explore_3D_array_comparison(\n",
    "    arr_before=raw_img_ants.numpy(),\n",
    "    arr_after=transformed.numpy(),\n",
    "    cmap='viridis'\n",
    ")"
   ],
   "outputs": [
    {
     "data": {
      "text/plain": [
       "interactive(children=(IntSlider(value=95, description='SLICE', max=191), Output()), _dom_classes=('widget-inte…"
      ],
      "application/vnd.jupyter.widget-view+json": {
       "version_major": 2,
       "version_minor": 0,
       "model_id": "e82f605fb5b741eba0a8cf04f6a228b4"
      }
     },
     "metadata": {},
     "output_type": "display_data"
    }
   ],
   "execution_count": 8
  },
  {
   "cell_type": "markdown",
   "metadata": {},
   "source": [
    "### Simple ITK"
   ]
  },
  {
   "cell_type": "markdown",
   "metadata": {},
   "source": [
    "#### Raw Image"
   ]
  },
  {
   "cell_type": "code",
   "metadata": {
    "ExecuteTime": {
     "end_time": "2025-01-12T08:59:15.794889Z",
     "start_time": "2025-01-12T08:59:15.158513Z"
    }
   },
   "source": [
    "raw_img_path = os.path.join(BASE_DIR, 'assets', 'raw_examples', raw_examples[0])\n",
    "raw_img_sitk = sitk.ReadImage(raw_img_path, sitk.sitkFloat32)\n",
    "raw_img_sitk = sitk.DICOMOrient(raw_img_sitk,'RPS')\n",
    "\n",
    "print(f'shape = {sitk.GetArrayFromImage(raw_img_sitk).shape} -> (Z, X, Y)')\n",
    "explore_3D_array(\n",
    "    arr=sitk.GetArrayFromImage(raw_img_sitk),\n",
    "    cmap='viridis'\n",
    ")"
   ],
   "outputs": [
    {
     "name": "stdout",
     "output_type": "stream",
     "text": [
      "shape = (192, 192, 160) -> (Z, X, Y)\n"
     ]
    },
    {
     "data": {
      "text/plain": [
       "interactive(children=(IntSlider(value=95, description='SLICE', max=191), Output()), _dom_classes=('widget-inte…"
      ],
      "application/vnd.jupyter.widget-view+json": {
       "version_major": 2,
       "version_minor": 0,
       "model_id": "d623f9bf0f6e4fccbdc50311f7c82377"
      }
     },
     "metadata": {},
     "output_type": "display_data"
    }
   ],
   "execution_count": 9
  },
  {
   "cell_type": "markdown",
   "metadata": {},
   "source": [
    "#### Shrink"
   ]
  },
  {
   "cell_type": "code",
   "metadata": {
    "ExecuteTime": {
     "end_time": "2025-01-12T09:01:24.050238Z",
     "start_time": "2025-01-12T09:01:23.428759Z"
    }
   },
   "source": [
    "shrinkFactor = 1\n",
    "transformed = sitk.Shrink( raw_img_sitk, [ shrinkFactor ] * raw_img_sitk.GetDimension() )\n",
    "\n",
    "print(f'shape before = {sitk.GetArrayFromImage(raw_img_sitk).shape}')\n",
    "print(f'shape after = {sitk.GetArrayFromImage(transformed).shape}')\n",
    "\n",
    "explore_3D_array(sitk.GetArrayFromImage(transformed))"
   ],
   "outputs": [
    {
     "name": "stdout",
     "output_type": "stream",
     "text": [
      "shape before = (192, 192, 160)\n",
      "shape after = (192, 192, 160)\n"
     ]
    },
    {
     "data": {
      "text/plain": [
       "interactive(children=(IntSlider(value=95, description='SLICE', max=191), Output()), _dom_classes=('widget-inte…"
      ],
      "application/vnd.jupyter.widget-view+json": {
       "version_major": 2,
       "version_minor": 0,
       "model_id": "b93983e62e7349409941c45c049471ed"
      }
     },
     "metadata": {},
     "output_type": "display_data"
    }
   ],
   "execution_count": 16
  },
  {
   "cell_type": "markdown",
   "metadata": {},
   "source": [
    "#### Crop"
   ]
  },
  {
   "cell_type": "code",
   "metadata": {
    "ExecuteTime": {
     "end_time": "2025-01-12T09:04:54.553980Z",
     "start_time": "2025-01-12T09:04:54.114607Z"
    }
   },
   "source": [
    "# Cropping takes the orientation of the pixels for the reference of lower & upper boundaries vectors\n",
    "# Pixel orientation = RPS = (left-to-Right, anterior-to-Posterior, inferior-to-Superior)\n",
    "\n",
    "# crop nothing\n",
    "#transformed = sitk.Crop(raw_img_sitk)\n",
    "#transformed = sitk.Crop(raw_img_sitk, (0,0,0), (0,0,0))\n",
    "\n",
    "# crop 20 from left to right             X,Y,Z\n",
    "#transformed = sitk.Crop(raw_img_sitk, (20,0,0), (0,0,0))\n",
    "\n",
    "# crop 20 from left to right, crop 30 from anterior to posterior\n",
    "#transformed = sitk.Crop(raw_img_sitk, (20,30,0), (0,0,0))\n",
    "\n",
    "# crop 20 from left to right, crop 30 from anterior to posterior, \n",
    "# crop 10 from right to left, crop 5 from posterior to anterior. \n",
    "#transformed = sitk.Crop(raw_img_sitk, (20,30,0), (10,5,0)) \n",
    "\n",
    "# crop 40 from inferior to superior, crop 50 from superior to inferior\n",
    "transformed = sitk.Crop(raw_img_sitk, (0,0,40), (0,0,50)) \n",
    "\n",
    "\n",
    "print(f'shape before = {sitk.GetArrayFromImage(raw_img_sitk).shape}')\n",
    "print(f'shape after = {sitk.GetArrayFromImage(transformed).shape}')\n",
    "\n",
    "explore_3D_array(sitk.GetArrayFromImage(transformed))"
   ],
   "outputs": [
    {
     "name": "stdout",
     "output_type": "stream",
     "text": [
      "shape before = (192, 192, 160)\n",
      "shape after = (102, 192, 160)\n"
     ]
    },
    {
     "data": {
      "text/plain": [
       "interactive(children=(IntSlider(value=50, description='SLICE', max=101), Output()), _dom_classes=('widget-inte…"
      ],
      "application/vnd.jupyter.widget-view+json": {
       "version_major": 2,
       "version_minor": 0,
       "model_id": "ff8aa47858c34f03bb57307f221292b6"
      }
     },
     "metadata": {},
     "output_type": "display_data"
    }
   ],
   "execution_count": 18
  },
  {
   "cell_type": "markdown",
   "metadata": {},
   "source": [
    "#### Padding"
   ]
  },
  {
   "cell_type": "code",
   "metadata": {
    "ExecuteTime": {
     "end_time": "2025-01-12T09:12:53.242953Z",
     "start_time": "2025-01-12T09:12:53.206614Z"
    }
   },
   "source": [
    "constant = int(sitk.GetArrayFromImage(raw_img_sitk).max())\n",
    "constant"
   ],
   "outputs": [
    {
     "data": {
      "text/plain": [
       "941"
      ]
     },
     "execution_count": 20,
     "metadata": {},
     "output_type": "execute_result"
    }
   ],
   "execution_count": 20
  },
  {
   "cell_type": "code",
   "metadata": {
    "ExecuteTime": {
     "end_time": "2025-01-12T09:13:22.387389Z",
     "start_time": "2025-01-12T09:13:21.237190Z"
    }
   },
   "source": [
    "# Padding (as Cropping) takes the orientation of the pixels for the reference of lower & upper boundaries vectors\n",
    "# Pixel orientation = RPS = (left-to-Right, anterior-to-Posterior, inferior-to-Superior)\n",
    "\n",
    "# pad nothing\n",
    "#transformed = sitk.ConstantPad(raw_img_sitk)\n",
    "#transformed = sitk.ConstantPad(raw_img_sitk,(0,0,0),(0,0,0), constant)\n",
    "\n",
    "# pad 10 from left to right\n",
    "#transformed = sitk.ConstantPad(raw_img_sitk,(10,0,0),(0,0,0),constant)\n",
    "\n",
    "# pad 10 from left to right, pad 15 from anterior to posterior\n",
    "#transformed = sitk.ConstantPad(raw_img_sitk,(10,15,0),(0,0,0),constant)\n",
    "\n",
    "# pad 10 from left to right, pad 15 from anterior to posterior, \n",
    "# pad 5 from right to left, pad 8 from posterior to anterior. \n",
    "transformed = sitk.ConstantPad(raw_img_sitk,(10,15,0),(5,8,0),constant)\n",
    "\n",
    "\n",
    "print(f'shape before = {sitk.GetArrayFromImage(raw_img_sitk).shape}')\n",
    "print(f'shape after = {sitk.GetArrayFromImage(transformed).shape}')\n",
    "\n",
    "explore_3D_array(sitk.GetArrayFromImage(transformed), cmap='viridis')"
   ],
   "outputs": [
    {
     "name": "stdout",
     "output_type": "stream",
     "text": [
      "shape before = (192, 192, 160)\n",
      "shape after = (192, 215, 175)\n"
     ]
    },
    {
     "data": {
      "text/plain": [
       "interactive(children=(IntSlider(value=95, description='SLICE', max=191), Output()), _dom_classes=('widget-inte…"
      ],
      "application/vnd.jupyter.widget-view+json": {
       "version_major": 2,
       "version_minor": 0,
       "model_id": "8ca87f7138214bc0a55c2c0abd2d9e3e"
      }
     },
     "metadata": {},
     "output_type": "display_data"
    }
   ],
   "execution_count": 21
  },
  {
   "cell_type": "markdown",
   "metadata": {},
   "source": [
    "#### Denoise"
   ]
  },
  {
   "cell_type": "markdown",
   "metadata": {},
   "source": [
    "Curvature Flow filter"
   ]
  },
  {
   "cell_type": "code",
   "metadata": {
    "ExecuteTime": {
     "end_time": "2025-01-12T09:17:33.189825Z",
     "start_time": "2025-01-12T09:17:29.277740Z"
    }
   },
   "source": [
    "transformed = sitk.CurvatureFlow(raw_img_sitk)\n",
    "\n",
    "explore_3D_array_comparison(\n",
    "    arr_before=sitk.GetArrayFromImage(raw_img_sitk),\n",
    "    arr_after=sitk.GetArrayFromImage(transformed),\n",
    "    cmap='viridis'\n",
    ")"
   ],
   "outputs": [
    {
     "data": {
      "text/plain": [
       "interactive(children=(IntSlider(value=95, description='SLICE', max=191), Output()), _dom_classes=('widget-inte…"
      ],
      "application/vnd.jupyter.widget-view+json": {
       "version_major": 2,
       "version_minor": 0,
       "model_id": "868f9a8d641c4d189055c52788d666c3"
      }
     },
     "metadata": {},
     "output_type": "display_data"
    }
   ],
   "execution_count": 23
  },
  {
   "cell_type": "markdown",
   "metadata": {},
   "source": [
    "#### Morphological Operations"
   ]
  },
  {
   "cell_type": "code",
   "metadata": {
    "ExecuteTime": {
     "end_time": "2025-01-12T09:17:55.874508Z",
     "start_time": "2025-01-12T09:17:53.965077Z"
    }
   },
   "source": [
    "\"\"\"\n",
    "sitk.GrayscaleMorphologicalClosing\n",
    "sitk.GrayscaleDilate\n",
    "sitk.GrayscaleErode\n",
    "sitk.GrayscaleMorphologicalOpening\n",
    "\n",
    "sitk.BinaryMorphologicalClosing\n",
    "sitk.BinaryDilate\n",
    "sitk.BinaryErode\n",
    "sitk.BinaryMorphologicalOpening\n",
    "\"\"\"\n",
    "\n",
    "transformed = sitk.GrayscaleErode(raw_img_sitk)\n",
    "\n",
    "explore_3D_array_comparison(\n",
    "    arr_before=sitk.GetArrayFromImage(raw_img_sitk),\n",
    "    arr_after=sitk.GetArrayFromImage(transformed),\n",
    "    cmap='viridis'\n",
    ")"
   ],
   "outputs": [
    {
     "data": {
      "text/plain": [
       "interactive(children=(IntSlider(value=95, description='SLICE', max=191), Output()), _dom_classes=('widget-inte…"
      ],
      "application/vnd.jupyter.widget-view+json": {
       "version_major": 2,
       "version_minor": 0,
       "model_id": "19b4b3125cb74428a51e376f5f090552"
      }
     },
     "metadata": {},
     "output_type": "display_data"
    }
   ],
   "execution_count": 24
  },
  {
   "cell_type": "markdown",
   "metadata": {},
   "source": [
    "#### Blurring"
   ]
  },
  {
   "cell_type": "code",
   "metadata": {
    "ExecuteTime": {
     "end_time": "2025-01-12T09:28:22.000708Z",
     "start_time": "2025-01-12T09:28:20.526082Z"
    }
   },
   "source": [
    "transformed = sitk.DiscreteGaussian(raw_img_sitk)\n",
    "\n",
    "explore_3D_array_comparison(\n",
    "    arr_before=sitk.GetArrayFromImage(raw_img_sitk),\n",
    "    arr_after=sitk.GetArrayFromImage(transformed),\n",
    "    cmap='viridis'\n",
    ")"
   ],
   "outputs": [
    {
     "data": {
      "text/plain": [
       "interactive(children=(IntSlider(value=95, description='SLICE', max=191), Output()), _dom_classes=('widget-inte…"
      ],
      "application/vnd.jupyter.widget-view+json": {
       "version_major": 2,
       "version_minor": 0,
       "model_id": "7c1cb447648b4ab78aa8ad3021065521"
      }
     },
     "metadata": {},
     "output_type": "display_data"
    }
   ],
   "execution_count": 25
  },
  {
   "cell_type": "markdown",
   "metadata": {},
   "source": [
    "#### Thresholding"
   ]
  },
  {
   "cell_type": "code",
   "metadata": {
    "ExecuteTime": {
     "end_time": "2025-01-12T09:28:53.110017Z",
     "start_time": "2025-01-12T09:28:52.170595Z"
    }
   },
   "source": [
    "\"\"\"\n",
    "sitk.OtsuThreshold\n",
    "sitk.LiThreshold\n",
    "sitk.TriangleThreshold\n",
    "sitk.MomentsThreshold\n",
    "\"\"\"\n",
    "\n",
    "transformed = sitk.TriangleThreshold(raw_img_sitk, 0, 1)\n",
    "\n",
    "explore_3D_array_comparison(\n",
    "    arr_before=sitk.GetArrayFromImage(raw_img_sitk),\n",
    "    arr_after=sitk.GetArrayFromImage(transformed)\n",
    ")"
   ],
   "outputs": [
    {
     "data": {
      "text/plain": [
       "interactive(children=(IntSlider(value=95, description='SLICE', max=191), Output()), _dom_classes=('widget-inte…"
      ],
      "application/vnd.jupyter.widget-view+json": {
       "version_major": 2,
       "version_minor": 0,
       "model_id": "2281288088d247388175e7b89ba721c3"
      }
     },
     "metadata": {},
     "output_type": "display_data"
    }
   ],
   "execution_count": 26
  },
  {
   "cell_type": "markdown",
   "metadata": {},
   "source": [
    "#### Statistics"
   ]
  },
  {
   "cell_type": "code",
   "metadata": {
    "ExecuteTime": {
     "end_time": "2025-01-12T09:29:10.838230Z",
     "start_time": "2025-01-12T09:29:10.789399Z"
    }
   },
   "source": [
    "stats = sitk.StatisticsImageFilter()\n",
    "stats.Execute(raw_img_sitk)\n",
    "\n",
    "\n",
    "print('\\tRaw img')\n",
    "print(\"min  =\", stats.GetMinimum())\n",
    "print(\"max  =\", stats.GetMaximum())\n",
    "print(\"mean =\", stats.GetMean())\n"
   ],
   "outputs": [
    {
     "name": "stdout",
     "output_type": "stream",
     "text": [
      "\tRaw img\n",
      "min  = 0.0\n",
      "max  = 941.0\n",
      "mean = 71.38583017985026\n"
     ]
    }
   ],
   "execution_count": 27
  }
 ],
 "metadata": {
  "interpreter": {
   "hash": "418825faa255fc22419b3421ba9be6bb08852f7738a4e2e9757a921549f74527"
  },
  "kernelspec": {
   "display_name": "Python 3.7.1 ('.venv': venv)",
   "language": "python",
   "name": "python3"
  },
  "language_info": {
   "codemirror_mode": {
    "name": "ipython",
    "version": 3
   },
   "file_extension": ".py",
   "mimetype": "text/x-python",
   "name": "python",
   "nbconvert_exporter": "python",
   "pygments_lexer": "ipython3",
   "version": "3.7.1"
  },
  "orig_nbformat": 4
 },
 "nbformat": 4,
 "nbformat_minor": 2
}
