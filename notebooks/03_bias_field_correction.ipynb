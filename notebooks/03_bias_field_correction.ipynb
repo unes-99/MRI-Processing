{
 "cells": [
  {
   "attachments": {},
   "cell_type": "markdown",
   "metadata": {},
   "source": [
    "### Bias Field Correction"
   ]
  },
  {
   "attachments": {},
   "cell_type": "markdown",
   "metadata": {},
   "source": [
    "**Learning outcomes:**\n",
    "- Learn how to apply Bias Field Correction to an image using SITK.\n",
    "- Inspect Bias Field visually."
   ]
  },
  {
   "cell_type": "code",
   "metadata": {
    "ExecuteTime": {
     "end_time": "2025-01-18T15:58:26.175014Z",
     "start_time": "2025-01-18T15:58:26.162487Z"
    }
   },
   "source": [
    "%matplotlib inline\n",
    "\n",
    "import os\n",
    "from helpers import *\n",
    "\n",
    "import ants\n",
    "# noinspection PyPep8Naming\n",
    "import SimpleITK as sitk\n",
    "\n",
    "print(f'AntsPy version = {ants.__version__}')\n",
    "print(f'SimpleITK version = {sitk.__version__}')"
   ],
   "outputs": [
    {
     "name": "stdout",
     "output_type": "stream",
     "text": [
      "AntsPy version = 0.5.4\n",
      "SimpleITK version = 2.4.1\n"
     ]
    }
   ],
   "execution_count": 11
  },
  {
   "cell_type": "code",
   "metadata": {
    "ExecuteTime": {
     "end_time": "2025-01-18T15:58:29.085819Z",
     "start_time": "2025-01-18T15:58:29.079201Z"
    }
   },
   "source": [
    "BASE_DIR = os.path.dirname(os.path.dirname(os.path.abspath(\"__file__\")))\n",
    "print(f'project folder = {BASE_DIR}')"
   ],
   "outputs": [
    {
     "name": "stdout",
     "output_type": "stream",
     "text": [
      "project folder = /home/younes/PycharmProjects/MRI-preprocessing-techniques\n"
     ]
    }
   ],
   "execution_count": 12
  },
  {
   "cell_type": "code",
   "metadata": {
    "ExecuteTime": {
     "end_time": "2025-01-18T15:53:31.749901Z",
     "start_time": "2025-01-18T15:53:31.740333Z"
    }
   },
   "source": [
    "raw_examples = [\n",
    "    'fsl-open-dev_sub-001_T1w.nii.gz',\n",
    "    'wash-120_sub-001_T1w.nii.gz',\n",
    "    'kf-panda_sub-01_ses-3T_T1w.nii.gz',\n",
    "    'listen-task_sub-UTS01_ses-1_T1w.nii.gz',\n",
    "]"
   ],
   "outputs": [],
   "execution_count": 8
  },
  {
   "attachments": {},
   "cell_type": "markdown",
   "metadata": {},
   "source": [
    "#### Load image"
   ]
  },
  {
   "cell_type": "code",
   "metadata": {
    "ExecuteTime": {
     "end_time": "2025-01-18T15:58:32.388182Z",
     "start_time": "2025-01-18T15:58:31.944053Z"
    }
   },
   "source": [
    "raw_example = raw_examples[0]\n",
    "raw_img_path = os.path.join(BASE_DIR, 'assets', 'raw_examples', raw_example)\n",
    "raw_img_sitk = sitk.ReadImage(raw_img_path, sitk.sitkFloat32)\n",
    "raw_img_sitk = sitk.DICOMOrient(raw_img_sitk,'RPS')\n",
    "\n",
    "raw_img_sitk_arr = sitk.GetArrayFromImage(raw_img_sitk)\n",
    "print(f'shape = {raw_img_sitk_arr.shape} -> (Z, X, Y)')\n",
    "explore_3D_array(raw_img_sitk_arr, cmap='nipy_spectral')"
   ],
   "outputs": [
    {
     "name": "stdout",
     "output_type": "stream",
     "text": [
      "shape = (192, 192, 160) -> (Z, X, Y)\n"
     ]
    },
    {
     "data": {
      "text/plain": [
       "interactive(children=(IntSlider(value=95, description='SLICE', max=191), Output()), _dom_classes=('widget-inte…"
      ],
      "application/vnd.jupyter.widget-view+json": {
       "version_major": 2,
       "version_minor": 0,
       "model_id": "72838302d20d4427874618865baa68a6"
      }
     },
     "metadata": {},
     "output_type": "display_data"
    }
   ],
   "execution_count": 13
  },
  {
   "attachments": {},
   "cell_type": "markdown",
   "metadata": {},
   "source": [
    "#### Create head mask"
   ]
  },
  {
   "cell_type": "code",
   "metadata": {
    "ExecuteTime": {
     "end_time": "2025-01-18T15:58:38.119967Z",
     "start_time": "2025-01-18T15:58:37.328722Z"
    }
   },
   "source": [
    "transformed = sitk.RescaleIntensity(raw_img_sitk, 0, 255)\n",
    "\n",
    "#transformed = sitk.TriangleThreshold(transformed, 0, 1)\n",
    "transformed = sitk.LiThreshold(transformed,0,1)\n",
    "\n",
    "head_mask = transformed\n",
    "\n",
    "explore_3D_array_comparison(\n",
    "    arr_before=sitk.GetArrayFromImage(raw_img_sitk),\n",
    "    arr_after=sitk.GetArrayFromImage(head_mask)\n",
    ")"
   ],
   "outputs": [
    {
     "data": {
      "text/plain": [
       "interactive(children=(IntSlider(value=95, description='SLICE', max=191), Output()), _dom_classes=('widget-inte…"
      ],
      "application/vnd.jupyter.widget-view+json": {
       "version_major": 2,
       "version_minor": 0,
       "model_id": "f893ebb4d4f84a5d82508bac066d991a"
      }
     },
     "metadata": {},
     "output_type": "display_data"
    }
   ],
   "execution_count": 14
  },
  {
   "attachments": {},
   "cell_type": "markdown",
   "metadata": {},
   "source": [
    "#### Bias Correction"
   ]
  },
  {
   "cell_type": "code",
   "metadata": {
    "ExecuteTime": {
     "end_time": "2025-01-18T16:11:18.249204Z",
     "start_time": "2025-01-18T16:05:45.593242Z"
    }
   },
   "source": [
    "shrinkFactor = 1\n",
    "inputImage = raw_img_sitk\n",
    "\n",
    "inputImage = sitk.Shrink( raw_img_sitk, [ shrinkFactor ] * inputImage.GetDimension() )\n",
    "maskImage = sitk.Shrink( head_mask, [ shrinkFactor ] * inputImage.GetDimension() )\n",
    "\n",
    "bias_corrector = sitk.N4BiasFieldCorrectionImageFilter()\n",
    "\n",
    "corrected = bias_corrector.Execute(inputImage, maskImage)"
   ],
   "outputs": [],
   "execution_count": 20
  },
  {
   "attachments": {},
   "cell_type": "markdown",
   "metadata": {},
   "source": [
    "#### Get image corrected"
   ]
  },
  {
   "cell_type": "code",
   "metadata": {
    "ExecuteTime": {
     "end_time": "2025-01-18T16:11:40.069996Z",
     "start_time": "2025-01-18T16:11:38.798446Z"
    }
   },
   "source": [
    "log_bias_field = bias_corrector.GetLogBiasFieldAsImage(raw_img_sitk)\n",
    "corrected_image_full_resolution = raw_img_sitk / sitk.Exp( log_bias_field )\n",
    "\n",
    "explore_3D_array_comparison(\n",
    "    sitk.GetArrayFromImage(raw_img_sitk),\n",
    "    sitk.GetArrayFromImage(corrected_image_full_resolution), \n",
    "    cmap='nipy_spectral')\n"
   ],
   "outputs": [
    {
     "data": {
      "text/plain": [
       "interactive(children=(IntSlider(value=95, description='SLICE', max=191), Output()), _dom_classes=('widget-inte…"
      ],
      "application/vnd.jupyter.widget-view+json": {
       "version_major": 2,
       "version_minor": 0,
       "model_id": "33d156d46bed4e3b8b90e702501d00f8"
      }
     },
     "metadata": {},
     "output_type": "display_data"
    }
   ],
   "execution_count": 21
  },
  {
   "attachments": {},
   "cell_type": "markdown",
   "metadata": {},
   "source": [
    "#### Inspect the bias field"
   ]
  },
  {
   "cell_type": "code",
   "metadata": {
    "ExecuteTime": {
     "end_time": "2025-01-18T16:11:48.680909Z",
     "start_time": "2025-01-18T16:11:48.391414Z"
    }
   },
   "source": [
    "# bias field\n",
    "temp = sitk.Exp(log_bias_field)\n",
    "temp = sitk.Mask(temp, head_mask)\n",
    "explore_3D_array(sitk.GetArrayFromImage(temp), cmap='gray')"
   ],
   "outputs": [
    {
     "data": {
      "text/plain": [
       "interactive(children=(IntSlider(value=95, description='SLICE', max=191), Output()), _dom_classes=('widget-inte…"
      ],
      "application/vnd.jupyter.widget-view+json": {
       "version_major": 2,
       "version_minor": 0,
       "model_id": "75d029ff00c9498ebda5d217a7049f6e"
      }
     },
     "metadata": {},
     "output_type": "display_data"
    }
   ],
   "execution_count": 22
  },
  {
   "attachments": {},
   "cell_type": "markdown",
   "metadata": {},
   "source": [
    "#### Save the image"
   ]
  },
  {
   "cell_type": "code",
   "metadata": {
    "ExecuteTime": {
     "end_time": "2025-01-18T16:11:51.024656Z",
     "start_time": "2025-01-18T16:11:51.016684Z"
    }
   },
   "source": [
    "out_folder =  os.path.join(BASE_DIR, 'assets', 'preprocessed')\n",
    "out_folder = os.path.join(out_folder, raw_example.split('.')[0]) # create folder with name of the raw file\n",
    "os.makedirs(out_folder, exist_ok=True) # create folder if not exists\n",
    "\n",
    "out_filename = add_suffix_to_filename(raw_example, suffix='biasFieldCorrected')\n",
    "out_path = os.path.join(out_folder, out_filename)\n",
    "\n",
    "print(raw_img_path[len(BASE_DIR):])\n",
    "print(out_path[len(BASE_DIR):])"
   ],
   "outputs": [
    {
     "name": "stdout",
     "output_type": "stream",
     "text": [
      "/assets/raw_examples/fsl-open-dev_sub-001_T1w.nii.gz\n",
      "/assets/preprocessed/fsl-open-dev_sub-001_T1w/fsl-open-dev_sub-001_T1w_biasFieldCorrected.nii.gz\n"
     ]
    }
   ],
   "execution_count": 23
  },
  {
   "cell_type": "code",
   "metadata": {
    "ExecuteTime": {
     "end_time": "2025-01-18T16:11:56.212102Z",
     "start_time": "2025-01-18T16:11:54.184038Z"
    }
   },
   "source": [
    "sitk.WriteImage(corrected_image_full_resolution, out_path)"
   ],
   "outputs": [],
   "execution_count": 24
  }
 ],
 "metadata": {
  "interpreter": {
   "hash": "418825faa255fc22419b3421ba9be6bb08852f7738a4e2e9757a921549f74527"
  },
  "kernelspec": {
   "display_name": "Python 3.7.1 ('.venv': venv)",
   "language": "python",
   "name": "python3"
  },
  "language_info": {
   "codemirror_mode": {
    "name": "ipython",
    "version": 3
   },
   "file_extension": ".py",
   "mimetype": "text/x-python",
   "name": "python",
   "nbconvert_exporter": "python",
   "pygments_lexer": "ipython3",
   "version": "3.7.1"
  },
  "orig_nbformat": 4
 },
 "nbformat": 4,
 "nbformat_minor": 2
}
