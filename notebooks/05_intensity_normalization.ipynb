{
 "cells": [
  {
   "attachments": {},
   "cell_type": "markdown",
   "metadata": {},
   "source": [
    "### Intensity Normalization"
   ]
  },
  {
   "attachments": {},
   "cell_type": "markdown",
   "metadata": {},
   "source": [
    "**Learning outcomes:**\n",
    "- How to apply intensity normalization by Histogram Matching."
   ]
  },
  {
   "cell_type": "code",
   "metadata": {
    "ExecuteTime": {
     "end_time": "2025-01-18T16:15:22.814113Z",
     "start_time": "2025-01-18T16:15:20.884003Z"
    }
   },
   "source": [
    "%matplotlib inline\n",
    "\n",
    "import os\n",
    "from helpers import *\n",
    "\n",
    "import ants\n",
    "# noinspection PyPep8Naming\n",
    "import SimpleITK as sitk\n",
    "\n",
    "print(f'AntsPy version = {ants.__version__}')\n",
    "print(f'SimpleITK version = {sitk.__version__}')"
   ],
   "outputs": [
    {
     "name": "stdout",
     "output_type": "stream",
     "text": [
      "AntsPy version = 0.5.4\n",
      "SimpleITK version = 2.4.1\n"
     ]
    }
   ],
   "execution_count": 1
  },
  {
   "cell_type": "code",
   "metadata": {
    "ExecuteTime": {
     "end_time": "2025-01-18T16:15:38.838307Z",
     "start_time": "2025-01-18T16:15:38.832848Z"
    }
   },
   "source": [
    "BASE_DIR = os.path.dirname(os.path.dirname(os.path.abspath(\"__file__\")))\n",
    "print(f'project folder = {BASE_DIR}')"
   ],
   "outputs": [
    {
     "name": "stdout",
     "output_type": "stream",
     "text": [
      "project folder = /home/younes/PycharmProjects/MRI-preprocessing-techniques\n"
     ]
    }
   ],
   "execution_count": 2
  },
  {
   "cell_type": "code",
   "metadata": {
    "ExecuteTime": {
     "end_time": "2025-01-18T16:15:40.069808Z",
     "start_time": "2025-01-18T16:15:40.065329Z"
    }
   },
   "source": [
    "raw_examples = [\n",
    "    'fsl-open-dev_sub-001_T1w.nii.gz',\n",
    "    'wash-120_sub-001_T1w.nii.gz',\n",
    "    'kf-panda_sub-01_ses-3T_T1w.nii.gz',\n",
    "    'listen-task_sub-UTS01_ses-1_T1w.nii.gz'\n",
    "]"
   ],
   "outputs": [],
   "execution_count": 3
  },
  {
   "cell_type": "markdown",
   "metadata": {},
   "source": [
    "### Simple ITK"
   ]
  },
  {
   "cell_type": "markdown",
   "metadata": {},
   "source": [
    "#### Raw Image"
   ]
  },
  {
   "cell_type": "code",
   "metadata": {
    "ExecuteTime": {
     "end_time": "2025-01-18T16:15:54.593046Z",
     "start_time": "2025-01-18T16:15:54.061008Z"
    }
   },
   "source": [
    "raw_example = raw_examples[0]\n",
    "raw_img_path = os.path.join(BASE_DIR, 'assets', 'raw_examples', raw_example)\n",
    "raw_img_sitk = sitk.ReadImage(raw_img_path, sitk.sitkFloat32)\n",
    "raw_img_sitk = sitk.DICOMOrient(raw_img_sitk,'RPS')\n",
    "\n",
    "print(f'shape = {sitk.GetArrayFromImage(raw_img_sitk).shape} -> (Z, X, Y)')\n",
    "explore_3D_array(\n",
    "    arr=sitk.GetArrayFromImage(raw_img_sitk),\n",
    "    cmap='viridis'\n",
    ")"
   ],
   "outputs": [
    {
     "name": "stdout",
     "output_type": "stream",
     "text": [
      "shape = (192, 192, 160) -> (Z, X, Y)\n"
     ]
    },
    {
     "data": {
      "text/plain": [
       "interactive(children=(IntSlider(value=95, description='SLICE', max=191), Output()), _dom_classes=('widget-inte…"
      ],
      "application/vnd.jupyter.widget-view+json": {
       "version_major": 2,
       "version_minor": 0,
       "model_id": "5c3bc355cc9b46829a9e81307e0b5c9c"
      }
     },
     "metadata": {},
     "output_type": "display_data"
    }
   ],
   "execution_count": 4
  },
  {
   "cell_type": "code",
   "metadata": {
    "ExecuteTime": {
     "end_time": "2025-01-18T16:16:08.948652Z",
     "start_time": "2025-01-18T16:16:08.599289Z"
    }
   },
   "source": [
    "template_img_path = os.path.join(BASE_DIR, 'assets', 'templates', 'mni_icbm152_t1_tal_nlin_sym_09a.nii')\n",
    "\n",
    "template_img_sitk = sitk.ReadImage(template_img_path, sitk.sitkFloat32)\n",
    "template_img_sitk = sitk.DICOMOrient(template_img_sitk,'RPS')\n",
    "explore_3D_array(arr = sitk.GetArrayFromImage(template_img_sitk))"
   ],
   "outputs": [
    {
     "data": {
      "text/plain": [
       "interactive(children=(IntSlider(value=94, description='SLICE', max=188), Output()), _dom_classes=('widget-inte…"
      ],
      "application/vnd.jupyter.widget-view+json": {
       "version_major": 2,
       "version_minor": 0,
       "model_id": "515a143f949e4378bea30b02e22dc3db"
      }
     },
     "metadata": {},
     "output_type": "display_data"
    }
   ],
   "execution_count": 5
  },
  {
   "cell_type": "code",
   "metadata": {
    "ExecuteTime": {
     "end_time": "2025-01-18T16:16:14.037639Z",
     "start_time": "2025-01-18T16:16:12.789574Z"
    }
   },
   "source": [
    "transformed = sitk.HistogramMatching(raw_img_sitk, template_img_sitk)\n",
    "\n",
    "explore_3D_array_comparison(\n",
    "    arr_before=sitk.GetArrayFromImage(raw_img_sitk),\n",
    "    arr_after=sitk.GetArrayFromImage(transformed),\n",
    "    cmap='gray'\n",
    ")"
   ],
   "outputs": [
    {
     "data": {
      "text/plain": [
       "interactive(children=(IntSlider(value=95, description='SLICE', max=191), Output()), _dom_classes=('widget-inte…"
      ],
      "application/vnd.jupyter.widget-view+json": {
       "version_major": 2,
       "version_minor": 0,
       "model_id": "95d368555b334b6c82163dd22171c2b7"
      }
     },
     "metadata": {},
     "output_type": "display_data"
    }
   ],
   "execution_count": 6
  },
  {
   "cell_type": "code",
   "metadata": {
    "ExecuteTime": {
     "end_time": "2025-01-18T16:16:47.349817Z",
     "start_time": "2025-01-18T16:16:47.255725Z"
    }
   },
   "source": [
    "stats = sitk.StatisticsImageFilter()\n",
    "\n",
    "stats.Execute(raw_img_sitk)\n",
    "print('\\tRaw img')\n",
    "print(\"min =\", stats.GetMinimum())\n",
    "print(\"max =\", stats.GetMaximum())\n",
    "print()\n",
    "\n",
    "\n",
    "stats.Execute(template_img_sitk)\n",
    "print('\\tTemplate img')\n",
    "print(\"min =\", stats.GetMinimum())\n",
    "print(\"max =\", stats.GetMaximum())\n",
    "print()\n",
    "\n",
    "stats.Execute(transformed)\n",
    "print('\\tTransformed img')\n",
    "print(\"min =\", stats.GetMinimum())\n",
    "print(\"max =\", stats.GetMaximum())\n",
    "\n"
   ],
   "outputs": [
    {
     "name": "stdout",
     "output_type": "stream",
     "text": [
      "\tRaw img\n",
      "min = 0.0\n",
      "max = 941.0\n",
      "\n",
      "\tTemplate img\n",
      "min = 0.0677947998046875\n",
      "max = 97.32923889160156\n",
      "\n",
      "\tTransformed img\n",
      "min = 0.0677947998046875\n",
      "max = 97.32923889160156\n"
     ]
    }
   ],
   "execution_count": 7
  }
 ],
 "metadata": {
  "interpreter": {
   "hash": "418825faa255fc22419b3421ba9be6bb08852f7738a4e2e9757a921549f74527"
  },
  "kernelspec": {
   "display_name": "Python 3.7.1 ('.venv': venv)",
   "language": "python",
   "name": "python3"
  },
  "language_info": {
   "codemirror_mode": {
    "name": "ipython",
    "version": 3
   },
   "file_extension": ".py",
   "mimetype": "text/x-python",
   "name": "python",
   "nbconvert_exporter": "python",
   "pygments_lexer": "ipython3",
   "version": "3.7.1 (default, Jul 27 2021, 18:42:28) \n[GCC 9.3.0]"
  },
  "orig_nbformat": 4
 },
 "nbformat": 4,
 "nbformat_minor": 2
}
