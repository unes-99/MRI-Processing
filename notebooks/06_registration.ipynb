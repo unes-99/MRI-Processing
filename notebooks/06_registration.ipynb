{
 "cells": [
  {
   "attachments": {},
   "cell_type": "markdown",
   "metadata": {},
   "source": [
    "### Registration"
   ]
  },
  {
   "attachments": {},
   "cell_type": "markdown",
   "metadata": {},
   "source": [
    "**Learning outcomes:**\n",
    "- How to apply registration to an image using ants."
   ]
  },
  {
   "cell_type": "code",
   "metadata": {
    "ExecuteTime": {
     "end_time": "2025-01-19T16:06:17.777656Z",
     "start_time": "2025-01-19T16:06:17.758850Z"
    }
   },
   "source": [
    "%matplotlib inline\n",
    "\n",
    "import os\n",
    "from helpers import *\n",
    "\n",
    "import ants\n",
    "# noinspection PyPep8Naming\n",
    "import SimpleITK as sitk\n",
    "\n",
    "print(f'AntsPy version = {ants.__version__}')\n",
    "print(f'SimpleITK version = {sitk.__version__}')"
   ],
   "outputs": [
    {
     "name": "stdout",
     "output_type": "stream",
     "text": [
      "AntsPy version = 0.5.4\n",
      "SimpleITK version = 2.4.1\n"
     ]
    }
   ],
   "execution_count": 5
  },
  {
   "cell_type": "code",
   "metadata": {
    "ExecuteTime": {
     "end_time": "2025-01-19T16:06:20.205102Z",
     "start_time": "2025-01-19T16:06:20.198955Z"
    }
   },
   "source": [
    "BASE_DIR = os.path.dirname(os.path.dirname(os.path.abspath(\"__file__\")))\n",
    "print(f'project folder = {BASE_DIR}')"
   ],
   "outputs": [
    {
     "name": "stdout",
     "output_type": "stream",
     "text": [
      "project folder = /home/younes/PycharmProjects/MRI-preprocessing-techniques\n"
     ]
    }
   ],
   "execution_count": 6
  },
  {
   "cell_type": "code",
   "metadata": {
    "ExecuteTime": {
     "end_time": "2025-01-19T16:06:22.216947Z",
     "start_time": "2025-01-19T16:06:22.211913Z"
    }
   },
   "source": [
    "raw_examples = [\n",
    "    'fsl-open-dev_sub-001_T1w.nii.gz',\n",
    "    'wash-120_sub-001_T1w.nii.gz',\n",
    "    'kf-panda_sub-01_ses-3T_T1w.nii.gz',\n",
    "    'listen-task_sub-UTS01_ses-1_T1w.nii.gz'\n",
    "]"
   ],
   "outputs": [],
   "execution_count": 7
  },
  {
   "cell_type": "markdown",
   "metadata": {},
   "source": [
    "#### Raw image"
   ]
  },
  {
   "cell_type": "code",
   "metadata": {
    "ExecuteTime": {
     "end_time": "2025-01-19T16:06:26.261325Z",
     "start_time": "2025-01-19T16:06:25.465409Z"
    }
   },
   "source": [
    "raw_example = raw_examples[0]\n",
    "raw_img_path = os.path.join(BASE_DIR, 'assets', 'raw_examples', raw_example)\n",
    "raw_img_ants = ants.image_read(raw_img_path, reorient='IAL')\n",
    "\n",
    "explore_3D_array(arr=raw_img_ants.numpy())"
   ],
   "outputs": [
    {
     "data": {
      "text/plain": [
       "interactive(children=(IntSlider(value=95, description='SLICE', max=191), Output()), _dom_classes=('widget-inte…"
      ],
      "application/vnd.jupyter.widget-view+json": {
       "version_major": 2,
       "version_minor": 0,
       "model_id": "630d24f7db7d426fb4fd7ac2dabc0a3c"
      }
     },
     "metadata": {},
     "output_type": "display_data"
    }
   ],
   "execution_count": 8
  },
  {
   "cell_type": "markdown",
   "metadata": {},
   "source": [
    "#### Template image"
   ]
  },
  {
   "cell_type": "code",
   "metadata": {
    "ExecuteTime": {
     "end_time": "2025-01-19T16:06:31.140638Z",
     "start_time": "2025-01-19T16:06:30.268320Z"
    }
   },
   "source": [
    "template_img_path = os.path.join(BASE_DIR, 'assets', 'templates', 'mni_icbm152_t1_tal_nlin_sym_09a.nii')\n",
    "template_img_ants = ants.image_read(template_img_path, reorient='IAL')\n",
    "\n",
    "explore_3D_array(arr = template_img_ants.numpy())"
   ],
   "outputs": [
    {
     "data": {
      "text/plain": [
       "interactive(children=(IntSlider(value=94, description='SLICE', max=188), Output()), _dom_classes=('widget-inte…"
      ],
      "application/vnd.jupyter.widget-view+json": {
       "version_major": 2,
       "version_minor": 0,
       "model_id": "ba19bc0d04a14aab9f64742d8cdc9008"
      }
     },
     "metadata": {},
     "output_type": "display_data"
    }
   ],
   "execution_count": 9
  },
  {
   "cell_type": "code",
   "metadata": {
    "ExecuteTime": {
     "end_time": "2025-01-19T16:06:33.860280Z",
     "start_time": "2025-01-19T16:06:33.843512Z"
    }
   },
   "source": [
    "print('\\t\\tRAW IMG')\n",
    "print(raw_img_ants)\n",
    "\n",
    "print('\\t\\tTEMPLATE IMG')\n",
    "print(template_img_ants)\n"
   ],
   "outputs": [
    {
     "name": "stdout",
     "output_type": "stream",
     "text": [
      "\t\tRAW IMG\n",
      "ANTsImage (IAL)\n",
      "\t Pixel Type : float (float32)\n",
      "\t Components : 1\n",
      "\t Dimensions : (192, 192, 160)\n",
      "\t Spacing    : (1.25, 1.25, 1.2)\n",
      "\t Origin     : (98.1114, -149.1525, -129.5975)\n",
      "\t Direction  : [ 0.  0. -1.  0.  1.  0.  1.  0.  0.]\n",
      "\n",
      "\t\tTEMPLATE IMG\n",
      "ANTsImage (IAL)\n",
      "\t Pixel Type : float (float32)\n",
      "\t Components : 1\n",
      "\t Dimensions : (189, 233, 197)\n",
      "\t Spacing    : (1.0, 1.0, 1.0)\n",
      "\t Origin     : (98.0, -98.0, -72.0)\n",
      "\t Direction  : [ 0.  0. -1.  0.  1.  0.  1.  0.  0.]\n",
      "\n"
     ]
    }
   ],
   "execution_count": 10
  },
  {
   "cell_type": "markdown",
   "metadata": {},
   "source": [
    "#### Registration"
   ]
  },
  {
   "cell_type": "code",
   "metadata": {
    "ExecuteTime": {
     "end_time": "2025-01-19T16:07:55.346023Z",
     "start_time": "2025-01-19T16:06:36.333735Z"
    }
   },
   "source": [
    "transformation = ants.registration(\n",
    "    fixed=template_img_ants,\n",
    "    moving=raw_img_ants, \n",
    "    type_of_transform='SyN',\n",
    "    verbose=True\n",
    ")"
   ],
   "outputs": [
    {
     "name": "stdout",
     "output_type": "stream",
     "text": [
      "antsRegistration -d 3 -r [0x7c5d2907dd08,0x7c5d292a4348,1] -m mattes[0x7c5d2907dd08,0x7c5d292a4348,1,32,regular,0.2] -t Affine[0.25] -c 2100x1200x1200x0 -s 3x2x1x0 -f 4x2x2x1 -x [NA,NA] -m mattes[0x7c5d2907dd08,0x7c5d292a4348,1,32] -t SyN[0.200000,3.000000,0.000000] -c [40x20x0,1e-7,8] -s 2x1x0 -f 4x2x1 -u 1 -z 1 -o [/tmp/tmplneccuyv,0x7c5d28727408,0x7c5d2907e868] -x [NA,NA] --float 1 --write-composite-transform 0 -v 1\n",
      "All_Command_lines_OK\n",
      "Using single precision for computations.\n",
      "=============================================================================\n",
      "The composite transform comprises the following transforms (in order): \n",
      "  1. Center of mass alignment using fixed image: 0x7c5d2907dd08 and moving image: 0x7c5d292a4348 (type = Euler3DTransform)\n",
      "=============================================================================\n",
      "  Reading mask(s).\n",
      "    Registration stage 0\n",
      "      No fixed mask\n",
      "      No moving mask\n",
      "    Registration stage 1\n",
      "      No fixed mask\n",
      "      No moving mask\n",
      "  number of levels = 4\n",
      "  number of levels = 3\n",
      "  fixed image: 0x7c5d2907dd08\n",
      "  moving image: 0x7c5d292a4348\n",
      "  fixed image: 0x7c5d2907dd08\n",
      "  moving image: 0x7c5d292a4348\n",
      "Dimension = 3\n",
      "Number of stages = 2\n",
      "Use histogram matching = true\n",
      "Winsorize image intensities = false\n",
      "  Lower quantile = 0\n",
      "  Upper quantile = 1\n",
      "\n",
      "\n",
      "Stage 1 State\n",
      "   Image metric = MattesMI\n",
      "     Fixed image = Image (0x3899b090)\n",
      "  RTTI typeinfo:   itk::Image<float, 3u>\n",
      "  Reference Count: 2\n",
      "  Modified Time: 2297\n",
      "  Debug: Off\n",
      "  Object Name: \n",
      "  Observers: \n",
      "    none\n",
      "  Source: (none)\n",
      "  Source output name: (none)\n",
      "  Release Data: Off\n",
      "  Data Released: False\n",
      "  Global Release Data: Off\n",
      "  PipelineMTime: 0\n",
      "  UpdateMTime: 2269\n",
      "  RealTimeStamp: 0 seconds \n",
      "  LargestPossibleRegion: \n",
      "    Dimension: 3\n",
      "    Index: [0, 0, 0]\n",
      "    Size: [189, 233, 197]\n",
      "  BufferedRegion: \n",
      "    Dimension: 3\n",
      "    Index: [0, 0, 0]\n",
      "    Size: [189, 233, 197]\n",
      "  RequestedRegion: \n",
      "    Dimension: 3\n",
      "    Index: [0, 0, 0]\n",
      "    Size: [189, 233, 197]\n",
      "  Spacing: [1, 1, 1]\n",
      "  Origin: [98, -98, -72]\n",
      "  Direction: \n",
      "0 0 -1\n",
      "0 1 0\n",
      "1 0 0\n",
      "\n",
      "  IndexToPointMatrix: \n",
      "0 0 -1\n",
      "0 1 0\n",
      "1 0 0\n",
      "\n",
      "  PointToIndexMatrix: \n",
      "0 0 1\n",
      "0 1 0\n",
      "-1 0 0\n",
      "\n",
      "  Inverse Direction: \n",
      "0 0 1\n",
      "0 1 0\n",
      "-1 0 0\n",
      "\n",
      "  PixelContainer: \n",
      "    ImportImageContainer (0x3b9d7ba0)\n",
      "      RTTI typeinfo:   itk::ImportImageContainer<unsigned long, float>\n",
      "      Reference Count: 1\n",
      "      Modified Time: 2267\n",
      "      Debug: Off\n",
      "      Object Name: \n",
      "      Observers: \n",
      "        none\n",
      "      Pointer: 0x7c5cfde00010\n",
      "      Container manages memory: true\n",
      "      Size: 8675289\n",
      "      Capacity: 8675289\n",
      "\n",
      "     Moving image = Image (0x3ba34030)\n",
      "  RTTI typeinfo:   itk::Image<float, 3u>\n",
      "  Reference Count: 2\n",
      "  Modified Time: 2298\n",
      "  Debug: Off\n",
      "  Object Name: \n",
      "  Observers: \n",
      "    none\n",
      "  Source: (none)\n",
      "  Source output name: (none)\n",
      "  Release Data: Off\n",
      "  Data Released: False\n",
      "  Global Release Data: Off\n",
      "  PipelineMTime: 0\n",
      "  UpdateMTime: 2295\n",
      "  RealTimeStamp: 0 seconds \n",
      "  LargestPossibleRegion: \n",
      "    Dimension: 3\n",
      "    Index: [0, 0, 0]\n",
      "    Size: [192, 192, 160]\n",
      "  BufferedRegion: \n",
      "    Dimension: 3\n",
      "    Index: [0, 0, 0]\n",
      "    Size: [192, 192, 160]\n",
      "  RequestedRegion: \n",
      "    Dimension: 3\n",
      "    Index: [0, 0, 0]\n",
      "    Size: [192, 192, 160]\n",
      "  Spacing: [1.25, 1.25, 1.2]\n",
      "  Origin: [98.1114, -149.153, -129.597]\n",
      "  Direction: \n",
      "0 0 -1\n",
      "0 1 0\n",
      "1 0 0\n",
      "\n",
      "  IndexToPointMatrix: \n",
      "0 0 -1.2\n",
      "0 1.25 0\n",
      "1.25 0 0\n",
      "\n",
      "  PointToIndexMatrix: \n",
      "0 0 0.8\n",
      "0 0.8 0\n",
      "-0.833333 0 0\n",
      "\n",
      "  Inverse Direction: \n",
      "0 0 1\n",
      "0 1 0\n",
      "-1 0 0\n",
      "\n",
      "  PixelContainer: \n",
      "    ImportImageContainer (0x3ba02560)\n",
      "      RTTI typeinfo:   itk::ImportImageContainer<unsigned long, float>\n",
      "      Reference Count: 1\n",
      "      Modified Time: 2293\n",
      "      Debug: Off\n",
      "      Object Name: \n",
      "      Observers: \n",
      "        none\n",
      "      Pointer: 0x3e8747d0\n",
      "      Container manages memory: true\n",
      "      Size: 5898240\n",
      "      Capacity: 5898240\n",
      "\n",
      "     Weighting = 1\n",
      "     Sampling strategy = regular\n",
      "     Number of bins = 32\n",
      "     Radius = 4\n",
      "     Sampling percentage  = 0.2\n",
      "   Transform = Affine\n",
      "     Gradient step = 0.25\n",
      "     Update field sigma (voxel space) = 0\n",
      "     Total field sigma (voxel space) = 0\n",
      "     Update field time sigma = 0\n",
      "     Total field time sigma  = 0\n",
      "     Number of time indices = 0\n",
      "     Number of time point samples = 0\n",
      "Stage 2 State\n",
      "   Image metric = MattesMI\n",
      "     Fixed image = Image (0x3ba35290)\n",
      "  RTTI typeinfo:   itk::Image<float, 3u>\n",
      "  Reference Count: 2\n",
      "  Modified Time: 2349\n",
      "  Debug: Off\n",
      "  Object Name: \n",
      "  Observers: \n",
      "    none\n",
      "  Source: (none)\n",
      "  Source output name: (none)\n",
      "  Release Data: Off\n",
      "  Data Released: False\n",
      "  Global Release Data: Off\n",
      "  PipelineMTime: 0\n",
      "  UpdateMTime: 2321\n",
      "  RealTimeStamp: 0 seconds \n",
      "  LargestPossibleRegion: \n",
      "    Dimension: 3\n",
      "    Index: [0, 0, 0]\n",
      "    Size: [189, 233, 197]\n",
      "  BufferedRegion: \n",
      "    Dimension: 3\n",
      "    Index: [0, 0, 0]\n",
      "    Size: [189, 233, 197]\n",
      "  RequestedRegion: \n",
      "    Dimension: 3\n",
      "    Index: [0, 0, 0]\n",
      "    Size: [189, 233, 197]\n",
      "  Spacing: [1, 1, 1]\n",
      "  Origin: [98, -98, -72]\n",
      "  Direction: \n",
      "0 0 -1\n",
      "0 1 0\n",
      "1 0 0\n",
      "\n",
      "  IndexToPointMatrix: \n",
      "0 0 -1\n",
      "0 1 0\n",
      "1 0 0\n",
      "\n",
      "  PointToIndexMatrix: \n",
      "0 0 1\n",
      "0 1 0\n",
      "-1 0 0\n",
      "\n",
      "  Inverse Direction: \n",
      "0 0 1\n",
      "0 1 0\n",
      "-1 0 0\n",
      "\n",
      "  PixelContainer: \n",
      "    ImportImageContainer (0x3ba3e3c0)\n",
      "      RTTI typeinfo:   itk::ImportImageContainer<unsigned long, float>\n",
      "      Reference Count: 1\n",
      "      Modified Time: 2319\n",
      "      Debug: Off\n",
      "      Object Name: \n",
      "      Observers: \n",
      "        none\n",
      "      Pointer: 0x7c5cfbc00010\n",
      "      Container manages memory: true\n",
      "      Size: 8675289\n",
      "      Capacity: 8675289\n",
      "\n",
      "     Moving image = Image (0x3ba35520)\n",
      "  RTTI typeinfo:   itk::Image<float, 3u>\n",
      "  Reference Count: 2\n",
      "  Modified Time: 2350\n",
      "  Debug: Off\n",
      "  Object Name: \n",
      "  Observers: \n",
      "    none\n",
      "  Source: (none)\n",
      "  Source output name: (none)\n",
      "  Release Data: Off\n",
      "  Data Released: False\n",
      "  Global Release Data: Off\n",
      "  PipelineMTime: 0\n",
      "  UpdateMTime: 2347\n",
      "  RealTimeStamp: 0 seconds \n",
      "  LargestPossibleRegion: \n",
      "    Dimension: 3\n",
      "    Index: [0, 0, 0]\n",
      "    Size: [192, 192, 160]\n",
      "  BufferedRegion: \n",
      "    Dimension: 3\n",
      "    Index: [0, 0, 0]\n",
      "    Size: [192, 192, 160]\n",
      "  RequestedRegion: \n",
      "    Dimension: 3\n",
      "    Index: [0, 0, 0]\n",
      "    Size: [192, 192, 160]\n",
      "  Spacing: [1.25, 1.25, 1.2]\n",
      "  Origin: [98.1114, -149.153, -129.597]\n",
      "  Direction: \n",
      "0 0 -1\n",
      "0 1 0\n",
      "1 0 0\n",
      "\n",
      "  IndexToPointMatrix: \n",
      "0 0 -1.2\n",
      "0 1.25 0\n",
      "1.25 0 0\n",
      "\n",
      "  PointToIndexMatrix: \n",
      "0 0 0.8\n",
      "0 0.8 0\n",
      "-0.833333 0 0\n",
      "\n",
      "  Inverse Direction: \n",
      "0 0 1\n",
      "0 1 0\n",
      "-1 0 0\n",
      "\n",
      "  PixelContainer: \n",
      "    ImportImageContainer (0x3ba351c0)\n",
      "      RTTI typeinfo:   itk::ImportImageContainer<unsigned long, float>\n",
      "      Reference Count: 1\n",
      "      Modified Time: 2345\n",
      "      Debug: Off\n",
      "      Object Name: \n",
      "      Observers: \n",
      "        none\n",
      "      Pointer: 0x3fef47e0\n",
      "      Container manages memory: true\n",
      "      Size: 5898240\n",
      "      Capacity: 5898240\n",
      "\n",
      "     Weighting = 1\n",
      "     Sampling strategy = none\n",
      "     Number of bins = 32\n",
      "     Radius = 4\n",
      "     Sampling percentage  = 1\n",
      "   Transform = SyN\n",
      "     Gradient step = 0.2\n",
      "     Update field sigma (voxel space) = 3\n",
      "     Total field sigma (voxel space) = 0\n",
      "     Update field time sigma = 0\n",
      "     Total field time sigma  = 0\n",
      "     Number of time indices = 0\n",
      "     Number of time point samples = 0\n",
      "Registration using 2 total stages.\n",
      "\n",
      "Stage 0\n",
      "  iterations = 2100x1200x1200x0\n",
      "  convergence threshold = 1e-06\n",
      "  convergence window size = 10\n",
      "  number of levels = 4\n",
      "  using the Mattes MI metric (number of bins = 32, weight = 1, use gradient filter = 0)\n",
      "  preprocessing:  histogram matching the images\n",
      "  Shrink factors (level 1 out of 4): [4, 4, 4]\n",
      "  Shrink factors (level 2 out of 4): [2, 2, 2]\n",
      "  Shrink factors (level 3 out of 4): [2, 2, 2]\n",
      "  Shrink factors (level 4 out of 4): [1, 1, 1]\n",
      "  smoothing sigmas per level: [3, 2, 1, 0]\n",
      "  regular sampling (percentage = 0.2)\n",
      "\n",
      "*** Running AffineTransform registration ***\n",
      "\n",
      "DIAGNOSTIC,Iteration,metricValue,convergenceValue,ITERATION_TIME_INDEX,SINCE_LAST\n",
      " 2DIAGNOSTIC,     1, -4.986718297005e-01, inf, 4.1815e-01, 4.1815e-01, \n",
      " 2DIAGNOSTIC,     2, -5.020036697388e-01, inf, 4.4714e-01, 2.8983e-02, \n",
      " 2DIAGNOSTIC,     3, -5.074046254158e-01, inf, 4.7700e-01, 2.9864e-02, \n",
      " 2DIAGNOSTIC,     4, -5.165796875954e-01, inf, 5.0606e-01, 2.9063e-02, \n",
      " 2DIAGNOSTIC,     5, -5.307143330574e-01, inf, 5.3369e-01, 2.7628e-02, \n",
      " 2DIAGNOSTIC,     6, -5.497323870659e-01, inf, 5.6367e-01, 2.9978e-02, \n",
      " 2DIAGNOSTIC,     7, -5.784278512001e-01, inf, 5.9342e-01, 2.9749e-02, \n",
      " 2DIAGNOSTIC,     8, -6.163215041161e-01, inf, 6.2835e-01, 3.4929e-02, \n",
      " 2DIAGNOSTIC,     9, -6.401881575584e-01, inf, 6.5858e-01, 3.0230e-02, \n",
      " 2DIAGNOSTIC,    10, -6.475743055344e-01, 1.923545077443e-02, 6.9868e-01, 4.0108e-02, \n",
      " 2DIAGNOSTIC,    11, -6.583684086800e-01, 1.867330446839e-02, 7.2840e-01, 2.9713e-02, \n",
      " 2DIAGNOSTIC,    12, -6.650660634041e-01, 1.694858819246e-02, 7.6127e-01, 3.2876e-02, \n",
      " 2DIAGNOSTIC,    13, -6.783564090729e-01, 1.466905232519e-02, 7.8781e-01, 2.6541e-02, \n",
      " 2DIAGNOSTIC,    14, -7.200093269348e-01, 1.311392430216e-02, 8.2853e-01, 4.0717e-02, \n",
      " 2DIAGNOSTIC,    15, -7.342208027840e-01, 1.147686596960e-02, 8.5684e-01, 2.8309e-02, \n",
      " 2DIAGNOSTIC,    16, -7.460395693779e-01, 9.934782050550e-03, 8.8389e-01, 2.7047e-02, \n",
      " 2DIAGNOSTIC,    17, -7.572544217110e-01, 8.765633217990e-03, 9.1166e-01, 2.7772e-02, \n",
      " 2DIAGNOSTIC,    18, -7.691830396652e-01, 8.177924901247e-03, 9.4333e-01, 3.1666e-02, \n",
      " 2DIAGNOSTIC,    19, -7.856765389442e-01, 7.836028933525e-03, 9.9300e-01, 4.9675e-02, \n",
      " 2DIAGNOSTIC,    20, -7.983697056770e-01, 7.238733582199e-03, 1.0330e+00, 4.0001e-02, \n",
      " 2DIAGNOSTIC,    21, -8.025664687157e-01, 6.361455656588e-03, 1.0756e+00, 4.2644e-02, \n",
      " 2DIAGNOSTIC,    22, -8.088879585266e-01, 5.253772251308e-03, 1.1133e+00, 3.7697e-02, \n",
      " 2DIAGNOSTIC,    23, -8.218970894814e-01, 4.241069778800e-03, 1.1680e+00, 5.4668e-02, \n",
      " 2DIAGNOSTIC,    24, -8.694182038307e-01, 4.481413867325e-03, 1.2855e+00, 1.1748e-01, \n",
      " 2DIAGNOSTIC,    25, -8.704175353050e-01, 4.511048551649e-03, 1.3498e+00, 6.4341e-02, \n",
      " 2DIAGNOSTIC,    26, -8.765823841095e-01, 4.412593320012e-03, 1.3892e+00, 3.9353e-02, \n",
      " 2DIAGNOSTIC,    27, -8.857346177101e-01, 4.224923439324e-03, 1.4256e+00, 3.6369e-02, \n",
      " 2DIAGNOSTIC,    28, -8.980656266212e-01, 3.994477912784e-03, 1.4607e+00, 3.5175e-02, \n",
      " 2DIAGNOSTIC,    29, -9.119005203247e-01, 3.809119109064e-03, 1.4877e+00, 2.6978e-02, \n",
      " 2DIAGNOSTIC,    30, -9.231600165367e-01, 3.594685811549e-03, 1.5176e+00, 2.9847e-02, \n",
      " 2DIAGNOSTIC,    31, -9.323287606239e-01, 3.236626042053e-03, 1.5501e+00, 3.2555e-02, \n",
      " 2DIAGNOSTIC,    32, -9.582387804985e-01, 2.991885412484e-03, 1.5848e+00, 3.4737e-02, \n",
      " 2DIAGNOSTIC,    33, -9.803248643875e-01, 2.868010662496e-03, 1.6283e+00, 4.3407e-02, \n",
      " 2DIAGNOSTIC,    34, -9.892377853394e-01, 3.110638121143e-03, 1.6641e+00, 3.5850e-02, \n",
      " 2DIAGNOSTIC,    35, -9.964640736580e-01, 3.133104881272e-03, 1.7052e+00, 4.1108e-02, \n",
      " 2DIAGNOSTIC,    36, -1.003526329994e+00, 2.995845396072e-03, 1.7377e+00, 3.2526e-02, \n",
      " 2DIAGNOSTIC,    37, -1.011055827141e+00, 2.746434882283e-03, 1.7864e+00, 4.8708e-02, \n",
      " 2DIAGNOSTIC,    38, -1.031657099724e+00, 2.564782043919e-03, 1.8450e+00, 5.8508e-02, \n",
      " 2DIAGNOSTIC,    39, -1.051414847374e+00, 2.460483228788e-03, 1.8847e+00, 3.9729e-02, \n",
      " 2DIAGNOSTIC,    40, -1.059432983398e+00, 2.303811255842e-03, 1.9391e+00, 5.4429e-02, \n",
      " 2DIAGNOSTIC,    41, -1.062127351761e+00, 2.041089115664e-03, 1.9779e+00, 3.8804e-02, \n",
      " 2DIAGNOSTIC,    42, -1.063432693481e+00, 1.828557811677e-03, 2.0220e+00, 4.4055e-02, \n",
      " 2DIAGNOSTIC,    43, -1.063563227654e+00, 1.634228625335e-03, 2.0543e+00, 3.2373e-02, \n",
      " 2DIAGNOSTIC,    44, -1.063620090485e+00, 1.364508760162e-03, 2.0846e+00, 3.0278e-02, \n",
      " 2DIAGNOSTIC,    45, -1.063634753227e+00, 1.036777044646e-03, 2.1153e+00, 3.0716e-02, \n",
      " 2DIAGNOSTIC,    46, -1.063627719879e+00, 6.838167319074e-04, 2.1519e+00, 3.6516e-02, \n",
      " 2DIAGNOSTIC,    47, -1.063659906387e+00, 3.383404982742e-04, 2.1950e+00, 4.3180e-02, \n",
      " 2DIAGNOSTIC,    48, -1.063682675362e+00, 1.221955899382e-04, 2.2544e+00, 5.9356e-02, \n",
      " 2DIAGNOSTIC,    49, -1.063708662987e+00, 4.105954576517e-05, 2.3090e+00, 5.4582e-02, \n",
      " 2DIAGNOSTIC,    50, -1.063704133034e+00, 1.372134647681e-05, 2.3590e+00, 5.0014e-02, \n",
      " 2DIAGNOSTIC,    51, -1.063693284988e+00, 3.891488177032e-06, 2.4089e+00, 4.9909e-02, \n",
      " 2DIAGNOSTIC,    52, -1.063692212105e+00, 2.577984560048e-06, 2.4454e+00, 3.6537e-02, \n",
      " 2DIAGNOSTIC,    53, -1.063692688942e+00, 1.957963831956e-06, 2.4876e+00, 4.2218e-02, \n",
      " 2DIAGNOSTIC,    54, -1.063694000244e+00, 1.601964186193e-06, 2.5286e+00, 4.0983e-02, \n",
      " 2DIAGNOSTIC,    55, -1.063696384430e+00, 1.285822008867e-06, 2.5630e+00, 3.4385e-02, \n",
      "DIAGNOSTIC,Iteration,metricValue,convergenceValue,ITERATION_TIME_INDEX,SINCE_LAST\n",
      " 2DIAGNOSTIC,     1, -9.500150084496e-01, inf, 3.2541e+00, 6.9110e-01, \n",
      " 2DIAGNOSTIC,     2, -9.510267972946e-01, inf, 3.4747e+00, 2.2060e-01, \n",
      " 2DIAGNOSTIC,     3, -9.511185884476e-01, inf, 3.6969e+00, 2.2219e-01, \n",
      " 2DIAGNOSTIC,     4, -9.511942863464e-01, inf, 3.9020e+00, 2.0506e-01, \n",
      " 2DIAGNOSTIC,     5, -9.513580799103e-01, inf, 4.0886e+00, 1.8660e-01, \n",
      " 2DIAGNOSTIC,     6, -9.513860940933e-01, inf, 4.4171e+00, 3.2857e-01, \n",
      " 2DIAGNOSTIC,     7, -9.513890743256e-01, inf, 4.7772e+00, 3.6006e-01, \n",
      " 2DIAGNOSTIC,     8, -9.513944387436e-01, inf, 5.1146e+00, 3.3744e-01, \n",
      " 2DIAGNOSTIC,     9, -9.514008164406e-01, inf, 5.3442e+00, 2.2952e-01, \n",
      " 2DIAGNOSTIC,    10, -9.514070153236e-01, 6.318031955743e-05, 5.5252e+00, 1.8101e-01, \n",
      " 2DIAGNOSTIC,    11, -9.514219164848e-01, 2.488280006219e-05, 5.7004e+00, 1.7528e-01, \n",
      " 2DIAGNOSTIC,    12, -9.514293670654e-01, 1.638909816393e-05, 5.8772e+00, 1.7678e-01, \n",
      " 2DIAGNOSTIC,    13, -9.514524340630e-01, 1.060646172846e-05, 6.1835e+00, 3.0626e-01, \n",
      " 2DIAGNOSTIC,    14, -9.514575004578e-01, 6.530426162499e-06, 6.3865e+00, 2.0299e-01, \n",
      " 2DIAGNOSTIC,    15, -9.514582753181e-01, 5.875009719603e-06, 6.5958e+00, 2.0930e-01, \n",
      " 2DIAGNOSTIC,    16, -9.514579176903e-01, 5.477380454977e-06, 6.8006e+00, 2.0481e-01, \n",
      " 2DIAGNOSTIC,    17, -9.514576196671e-01, 4.849990091316e-06, 7.0143e+00, 2.1370e-01, \n",
      " 2DIAGNOSTIC,    18, -9.514592885971e-01, 4.129186891078e-06, 7.2274e+00, 2.1315e-01, \n",
      " 2DIAGNOSTIC,    19, -9.514601826668e-01, 3.378054316272e-06, 7.4311e+00, 2.0370e-01, \n",
      " 2DIAGNOSTIC,    20, -9.514598250389e-01, 2.630965127537e-06, 7.6126e+00, 1.8145e-01, \n",
      " 2DIAGNOSTIC,    21, -9.514607787132e-01, 2.086530002998e-06, 7.8181e+00, 2.0548e-01, \n",
      " 2DIAGNOSTIC,    22, -9.514595270157e-01, 1.614198822608e-06, 7.9928e+00, 1.7477e-01, \n",
      " 2DIAGNOSTIC,    23, -9.514606595039e-01, 1.479851334807e-06, 8.1912e+00, 1.9835e-01, \n",
      " 2DIAGNOSTIC,    24, -9.514628648758e-01, 1.437123387404e-06, 8.3723e+00, 1.8111e-01, \n",
      " 2DIAGNOSTIC,    25, -9.514665603638e-01, 1.440318214918e-06, 8.5767e+00, 2.0437e-01, \n",
      " 2DIAGNOSTIC,    26, -9.514684677124e-01, 1.444979830012e-06, 8.7792e+00, 2.0251e-01, \n",
      " 2DIAGNOSTIC,    27, -9.514697790146e-01, 1.439614379706e-06, 8.9852e+00, 2.0602e-01, \n",
      " 2DIAGNOSTIC,    28, -9.514690637589e-01, 1.420251123818e-06, 9.1601e+00, 1.7485e-01, \n",
      " 2DIAGNOSTIC,    29, -9.514724612236e-01, 1.419741920472e-06, 9.3644e+00, 2.0431e-01, \n",
      " 2DIAGNOSTIC,    30, -9.514753222466e-01, 1.411825792275e-06, 9.5721e+00, 2.0773e-01, \n",
      " 2DIAGNOSTIC,    31, -9.514763355255e-01, 1.389940507579e-06, 9.8047e+00, 2.3265e-01, \n",
      " 2DIAGNOSTIC,    32, -9.514757990837e-01, 1.319094508290e-06, 1.0004e+01, 1.9902e-01, \n",
      " 2DIAGNOSTIC,    33, -9.514755010605e-01, 1.230010184372e-06, 1.0210e+01, 2.0579e-01, \n",
      " 2DIAGNOSTIC,    34, -9.514759778976e-01, 1.143530198533e-06, 1.0411e+01, 2.0113e-01, \n",
      " 2DIAGNOSTIC,    35, -9.514758586884e-01, 1.071560973287e-06, 1.0615e+01, 2.0405e-01, \n",
      " 2DIAGNOSTIC,    36, -9.514769315720e-01, 1.012753955365e-06, 1.0816e+01, 2.0094e-01, \n",
      "DIAGNOSTIC,Iteration,metricValue,convergenceValue,ITERATION_TIME_INDEX,SINCE_LAST\n",
      " 2DIAGNOSTIC,     1, -8.144561648369e-01, inf, 1.1525e+01, 7.0950e-01, \n",
      " 2DIAGNOSTIC,     2, -8.153002262115e-01, inf, 1.1727e+01, 2.0229e-01, \n",
      " 2DIAGNOSTIC,     3, -8.155289888382e-01, inf, 1.1983e+01, 2.5551e-01, \n",
      " 2DIAGNOSTIC,     4, -8.155583739281e-01, inf, 1.2165e+01, 1.8205e-01, \n",
      " 2DIAGNOSTIC,     5, -8.156175613403e-01, inf, 1.2392e+01, 2.2702e-01, \n",
      " 2DIAGNOSTIC,     6, -8.156237602234e-01, inf, 1.2594e+01, 2.0237e-01, \n",
      " 2DIAGNOSTIC,     7, -8.156296014786e-01, inf, 1.2797e+01, 2.0252e-01, \n",
      " 2DIAGNOSTIC,     8, -8.156321644783e-01, inf, 1.3004e+01, 2.0750e-01, \n",
      " 2DIAGNOSTIC,     9, -8.156335353851e-01, inf, 1.3194e+01, 1.8960e-01, \n",
      " 2DIAGNOSTIC,    10, -8.156372308731e-01, 5.821189915878e-05, 1.3369e+01, 1.7518e-01, \n",
      " 2DIAGNOSTIC,    11, -8.156465291977e-01, 1.877913200587e-05, 1.3546e+01, 1.7702e-01, \n",
      " 2DIAGNOSTIC,    12, -8.156603574753e-01, 9.248979040422e-06, 1.3724e+01, 1.7736e-01, \n",
      " 2DIAGNOSTIC,    13, -8.156836032867e-01, 7.336836915783e-06, 1.3901e+01, 1.7702e-01, \n",
      " 2DIAGNOSTIC,    14, -8.157138228416e-01, 6.689690508210e-06, 1.4157e+01, 2.5644e-01, \n",
      " 2DIAGNOSTIC,    15, -8.157224655151e-01, 7.289243058040e-06, 1.4339e+01, 1.8207e-01, \n",
      " 2DIAGNOSTIC,    16, -8.157485127449e-01, 8.045669346757e-06, 1.4563e+01, 2.2389e-01, \n",
      " 2DIAGNOSTIC,    17, -8.157600164413e-01, 8.500739568262e-06, 1.4914e+01, 3.5135e-01, \n",
      " 2DIAGNOSTIC,    18, -8.157600760460e-01, 8.338277439179e-06, 1.5117e+01, 2.0245e-01, \n",
      " 2DIAGNOSTIC,    19, -8.157609701157e-01, 7.628580988239e-06, 1.5317e+01, 1.9998e-01, \n",
      " 2DIAGNOSTIC,    20, -8.157603144646e-01, 6.491035946965e-06, 1.5588e+01, 2.7158e-01, \n",
      " 2DIAGNOSTIC,    21, -8.157606124878e-01, 5.162809884496e-06, 1.5791e+01, 2.0314e-01, \n",
      " 2DIAGNOSTIC,    22, -8.157598376274e-01, 3.814315505224e-06, 1.5993e+01, 2.0140e-01, \n",
      " 2DIAGNOSTIC,    23, -8.157594799995e-01, 2.702695155676e-06, 1.6200e+01, 2.0665e-01, \n",
      " 2DIAGNOSTIC,    24, -8.157597184181e-01, 2.005852365983e-06, 1.6401e+01, 2.0144e-01, \n",
      " 2DIAGNOSTIC,    25, -8.157595992088e-01, 1.410990535078e-06, 1.6602e+01, 2.0075e-01, \n",
      " 2DIAGNOSTIC,    26, -8.157602548599e-01, 1.202547991852e-06, 1.6814e+01, 2.1217e-01, \n",
      " 2DIAGNOSTIC,    27, -8.157601356506e-01, 1.158400550594e-06, 1.7016e+01, 2.0203e-01, \n",
      " 2DIAGNOSTIC,    28, -8.157604932785e-01, 1.124338041336e-06, 1.7264e+01, 2.4790e-01, \n",
      " 2DIAGNOSTIC,    29, -8.157606124878e-01, 1.106002514462e-06, 1.7468e+01, 2.0452e-01, \n",
      " 2DIAGNOSTIC,    30, -8.157604336739e-01, 1.078047489500e-06, 1.7671e+01, 2.0217e-01, \n",
      " 2DIAGNOSTIC,    31, -8.157602548599e-01, 1.051843128153e-06, 1.7931e+01, 2.6005e-01, \n",
      " 2DIAGNOSTIC,    32, -8.157601356506e-01, 1.015272914628e-06, 1.8146e+01, 2.1504e-01, \n",
      "DIAGNOSTIC,Iteration,metricValue,convergenceValue,ITERATION_TIME_INDEX,SINCE_LAST\n",
      " 2DIAGNOSTIC,     1, -6.842343211174e-01, inf, 2.0151e+01, 2.0049e+00, \n",
      "  Elapsed time (stage 0): 2.1191e+01\n",
      "\n",
      "\n",
      "Stage 1\n",
      "  iterations = 40x20x0\n",
      "  convergence threshold = 1.0000e-07\n",
      "  convergence window size = 8\n",
      "  number of levels = 3\n",
      "  using the Mattes MI metric (number of bins = 32, weight = 1.0000e+00, use gradient filter = 0)\n",
      "  preprocessing:  histogram matching the images\n",
      "  Shrink factors (level 1 out of 3): [4, 4, 4]\n",
      "  Shrink factors (level 2 out of 3): [2, 2, 2]\n",
      "  Shrink factors (level 3 out of 3): [1, 1, 1]\n",
      "  smoothing sigmas per level: [2, 1, 0]\n",
      "  Using default NONE metricSamplingStrategy \n",
      "\n",
      "*** Running SyN registration (varianceForUpdateField = 3.0000e+00, varianceForTotalField = 0.0000e+00) ***\n",
      "\n",
      "XXDIAGNOSTIC,Iteration,metricValue,convergenceValue,ITERATION_TIME_INDEX,SINCE_LAST\n",
      " 1DIAGNOSTIC,     1, -9.762042164803e-01, inf, 5.8613e-01, 5.8612e-01, \n",
      " 1DIAGNOSTIC,     2, -1.009241938591e+00, inf, 8.0006e-01, 2.1393e-01, \n",
      " 1DIAGNOSTIC,     3, -1.039648771286e+00, inf, 1.0195e+00, 2.1945e-01, \n",
      " 1DIAGNOSTIC,     4, -1.060523033142e+00, inf, 1.2416e+00, 2.2208e-01, \n",
      " 1DIAGNOSTIC,     5, -1.076089739799e+00, inf, 1.4670e+00, 2.2542e-01, \n",
      " 1DIAGNOSTIC,     6, -1.089095115662e+00, inf, 1.7154e+00, 2.4836e-01, \n",
      " 1DIAGNOSTIC,     7, -1.099825620651e+00, inf, 1.9434e+00, 2.2798e-01, \n",
      " 1DIAGNOSTIC,     8, -1.108083128929e+00, 9.888530708849e-03, 2.1710e+00, 2.2762e-01, \n",
      " 1DIAGNOSTIC,     9, -1.113981246948e+00, 6.839744746685e-03, 2.3940e+00, 2.2301e-01, \n",
      " 1DIAGNOSTIC,    10, -1.120132923126e+00, 4.768791142851e-03, 2.6159e+00, 2.2193e-01, \n",
      " 1DIAGNOSTIC,    11, -1.123900055885e+00, 3.440251108259e-03, 2.8418e+00, 2.2589e-01, \n",
      " 1DIAGNOSTIC,    12, -1.129198789597e+00, 2.570429118350e-03, 3.0707e+00, 2.2887e-01, \n",
      " 1DIAGNOSTIC,    13, -1.130729913712e+00, 1.903550582938e-03, 3.2922e+00, 2.2157e-01, \n",
      " 1DIAGNOSTIC,    14, -1.137179374695e+00, 1.514786505140e-03, 3.5176e+00, 2.2537e-01, \n",
      " 1DIAGNOSTIC,    15, -1.138432502747e+00, 1.219148165546e-03, 3.7413e+00, 2.2368e-01, \n",
      " 1DIAGNOSTIC,    16, -1.142043828964e+00, 1.027456484735e-03, 3.9748e+00, 2.3350e-01, \n",
      " 1DIAGNOSTIC,    17, -1.142681598663e+00, 8.342291112058e-04, 4.1997e+00, 2.2489e-01, \n",
      " 1DIAGNOSTIC,    18, -1.145932078362e+00, 7.100903312676e-04, 4.4342e+00, 2.3449e-01, \n",
      " 1DIAGNOSTIC,    19, -1.146156311035e+00, 5.625375779346e-04, 4.6636e+00, 2.2939e-01, \n",
      " 1DIAGNOSTIC,    20, -1.149402856827e+00, 4.868098185398e-04, 4.8878e+00, 2.2428e-01, \n",
      " 1DIAGNOSTIC,    21, -1.149973869324e+00, 3.779809630942e-04, 5.1246e+00, 2.3677e-01, \n",
      " 1DIAGNOSTIC,    22, -1.151841402054e+00, 3.451142692938e-04, 5.3514e+00, 2.2681e-01, \n",
      " 1DIAGNOSTIC,    23, -1.152405977249e+00, 2.893595956266e-04, 5.5755e+00, 2.2406e-01, \n",
      " 1DIAGNOSTIC,    24, -1.154167652130e+00, 2.673478738870e-04, 5.8251e+00, 2.4963e-01, \n",
      " 1DIAGNOSTIC,    25, -1.154585361481e+00, 2.207098732470e-04, 6.0586e+00, 2.3346e-01, \n",
      " 1DIAGNOSTIC,    26, -1.155999302864e+00, 2.028864400927e-04, 6.2811e+00, 2.2256e-01, \n",
      " 1DIAGNOSTIC,    27, -1.156531333923e+00, 1.649594632909e-04, 6.5101e+00, 2.2894e-01, \n",
      " 1DIAGNOSTIC,    28, -1.157849192619e+00, 1.571124012116e-04, 6.7358e+00, 2.2575e-01, \n",
      " 1DIAGNOSTIC,    29, -1.158505201340e+00, 1.398205204168e-04, 6.9595e+00, 2.2364e-01, \n",
      " 1DIAGNOSTIC,    30, -1.159739136696e+00, 1.358726149192e-04, 7.1998e+00, 2.4033e-01, \n",
      " 1DIAGNOSTIC,    31, -1.160199522972e+00, 1.223446888616e-04, 7.4364e+00, 2.3657e-01, \n",
      " 1DIAGNOSTIC,    32, -1.161532402039e+00, 1.221721031470e-04, 7.6630e+00, 2.2659e-01, \n",
      " 1DIAGNOSTIC,    33, -1.161650657654e+00, 1.088914432330e-04, 7.8885e+00, 2.2551e-01, \n",
      " 1DIAGNOSTIC,    34, -1.162944078445e+00, 1.055116954376e-04, 8.1120e+00, 2.2352e-01, \n",
      " 1DIAGNOSTIC,    35, -1.163402318954e+00, 9.539801249048e-05, 8.3417e+00, 2.2966e-01, \n",
      " 1DIAGNOSTIC,    36, -1.164240837097e+00, 9.061102173291e-05, 8.5669e+00, 2.2521e-01, \n",
      " 1DIAGNOSTIC,    37, -1.164414405823e+00, 7.968860882102e-05, 8.7933e+00, 2.2639e-01, \n",
      " 1DIAGNOSTIC,    38, -1.165583372116e+00, 7.740130240563e-05, 9.0158e+00, 2.2256e-01, \n",
      " 1DIAGNOSTIC,    39, -1.165605425835e+00, 6.739083619323e-05, 9.2397e+00, 2.2391e-01, \n",
      " 1DIAGNOSTIC,    40, -1.166478395462e+00, 6.540999311255e-05, 9.4691e+00, 2.2940e-01, \n",
      "XXDIAGNOSTIC,Iteration,metricValue,convergenceValue,ITERATION_TIME_INDEX,SINCE_LAST\n",
      " 1DIAGNOSTIC,     1, -9.811708331108e-01, inf, 1.1754e+01, 2.2846e+00, \n",
      " 1DIAGNOSTIC,     2, -9.903371334076e-01, inf, 1.3547e+01, 1.7929e+00, \n",
      " 1DIAGNOSTIC,     3, -9.997017383575e-01, inf, 1.5293e+01, 1.7465e+00, \n",
      " 1DIAGNOSTIC,     4, -1.007419347763e+00, inf, 1.6983e+01, 1.6901e+00, \n",
      " 1DIAGNOSTIC,     5, -1.014173030853e+00, inf, 1.8705e+01, 1.7220e+00, \n",
      " 1DIAGNOSTIC,     6, -1.020164966583e+00, inf, 2.0377e+01, 1.6722e+00, \n",
      " 1DIAGNOSTIC,     7, -1.025696992874e+00, inf, 2.2179e+01, 1.8019e+00, \n",
      " 1DIAGNOSTIC,     8, -1.031106710434e+00, 4.017227794975e-03, 2.3913e+01, 1.7337e+00, \n",
      " 1DIAGNOSTIC,     9, -1.036187171936e+00, 3.222283907235e-03, 2.5659e+01, 1.7461e+00, \n",
      " 1DIAGNOSTIC,    10, -1.040713071823e+00, 2.619313308969e-03, 2.7463e+01, 1.8038e+00, \n",
      " 1DIAGNOSTIC,    11, -1.045029640198e+00, 2.193318679929e-03, 2.9748e+01, 2.2852e+00, \n",
      " 1DIAGNOSTIC,    12, -1.048740506172e+00, 1.860070275143e-03, 3.1616e+01, 1.8675e+00, \n",
      " 1DIAGNOSTIC,    13, -1.051738739014e+00, 1.574593945406e-03, 3.3323e+01, 1.7068e+00, \n",
      " 1DIAGNOSTIC,    14, -1.054381847382e+00, 1.319229719229e-03, 3.5269e+01, 1.9467e+00, \n",
      " 1DIAGNOSTIC,    15, -1.056723117828e+00, 1.090120989829e-03, 3.7179e+01, 1.9094e+00, \n",
      " 1DIAGNOSTIC,    16, -1.058732032776e+00, 8.924470166676e-04, 3.8936e+01, 1.7569e+00, \n",
      " 1DIAGNOSTIC,    17, -1.060595273972e+00, 7.297209231183e-04, 4.0657e+01, 1.7218e+00, \n",
      " 1DIAGNOSTIC,    18, -1.062052369118e+00, 5.933479405940e-04, 4.2396e+01, 1.7384e+00, \n",
      " 1DIAGNOSTIC,    19, -1.063690900803e+00, 4.922676598653e-04, 4.4046e+01, 1.6502e+00, \n",
      " 1DIAGNOSTIC,    20, -1.064877390862e+00, 4.131271853112e-04, 4.5849e+01, 1.8025e+00, \n",
      "  Elapsed time (stage 1): 48.94\n",
      "\n",
      "\n",
      "Total elapsed time: 70.15\n"
     ]
    }
   ],
   "execution_count": 11
  },
  {
   "cell_type": "code",
   "metadata": {
    "ExecuteTime": {
     "end_time": "2025-01-19T16:08:03.358920Z",
     "start_time": "2025-01-19T16:08:03.350013Z"
    }
   },
   "source": [
    "print(transformation)"
   ],
   "outputs": [
    {
     "name": "stdout",
     "output_type": "stream",
     "text": [
      "{'warpedmovout': ANTsImage (IAL)\n",
      "\t Pixel Type : float (float32)\n",
      "\t Components : 1\n",
      "\t Dimensions : (189, 233, 197)\n",
      "\t Spacing    : (1.0, 1.0, 1.0)\n",
      "\t Origin     : (98.0, -98.0, -72.0)\n",
      "\t Direction  : [ 0.  0. -1.  0.  1.  0.  1.  0.  0.]\n",
      ", 'warpedfixout': ANTsImage (IAL)\n",
      "\t Pixel Type : float (float32)\n",
      "\t Components : 1\n",
      "\t Dimensions : (192, 192, 160)\n",
      "\t Spacing    : (1.25, 1.25, 1.2)\n",
      "\t Origin     : (98.1114, -149.1525, -129.5975)\n",
      "\t Direction  : [ 0.  0. -1.  0.  1.  0.  1.  0.  0.]\n",
      ", 'fwdtransforms': ['/tmp/tmplneccuyv1Warp.nii.gz', '/tmp/tmplneccuyv0GenericAffine.mat'], 'invtransforms': ['/tmp/tmplneccuyv0GenericAffine.mat', '/tmp/tmplneccuyv1InverseWarp.nii.gz']}\n"
     ]
    }
   ],
   "execution_count": 12
  },
  {
   "cell_type": "code",
   "metadata": {
    "ExecuteTime": {
     "end_time": "2025-01-19T16:08:05.523546Z",
     "start_time": "2025-01-19T16:08:05.295374Z"
    }
   },
   "source": [
    "registered_img_ants = transformation['warpedmovout']\n",
    "\n",
    "explore_3D_array(arr=registered_img_ants.numpy())"
   ],
   "outputs": [
    {
     "data": {
      "text/plain": [
       "interactive(children=(IntSlider(value=94, description='SLICE', max=188), Output()), _dom_classes=('widget-inte…"
      ],
      "application/vnd.jupyter.widget-view+json": {
       "version_major": 2,
       "version_minor": 0,
       "model_id": "c731241acb224dd486a9708b409eaa98"
      }
     },
     "metadata": {},
     "output_type": "display_data"
    }
   ],
   "execution_count": 13
  },
  {
   "cell_type": "code",
   "metadata": {
    "ExecuteTime": {
     "end_time": "2025-01-19T16:08:10.557228Z",
     "start_time": "2025-01-19T16:08:10.549381Z"
    }
   },
   "source": [
    "out_folder =  os.path.join(BASE_DIR, 'assets', 'preprocessed')\n",
    "out_folder = os.path.join(out_folder, raw_example.split('.')[0]) # create folder with name of the raw file\n",
    "os.makedirs(out_folder, exist_ok=True) # create folder if not exists\n",
    "\n",
    "out_filename = add_suffix_to_filename(raw_example, suffix='registered')\n",
    "out_path = os.path.join(out_folder, out_filename)\n",
    "\n",
    "print(raw_img_path[len(BASE_DIR):])\n",
    "print(out_path[len(BASE_DIR):])"
   ],
   "outputs": [
    {
     "name": "stdout",
     "output_type": "stream",
     "text": [
      "/assets/raw_examples/fsl-open-dev_sub-001_T1w.nii.gz\n",
      "/assets/preprocessed/fsl-open-dev_sub-001_T1w/fsl-open-dev_sub-001_T1w_registered.nii.gz\n"
     ]
    }
   ],
   "execution_count": 14
  },
  {
   "cell_type": "code",
   "execution_count": null,
   "metadata": {},
   "outputs": [],
   "source": [
    "registered_img_ants.to_file(out_path)"
   ]
  }
 ],
 "metadata": {
  "interpreter": {
   "hash": "418825faa255fc22419b3421ba9be6bb08852f7738a4e2e9757a921549f74527"
  },
  "kernelspec": {
   "display_name": "Python 3.7.1 64-bit ('.venv': venv)",
   "language": "python",
   "name": "python3"
  },
  "language_info": {
   "codemirror_mode": {
    "name": "ipython",
    "version": 3
   },
   "file_extension": ".py",
   "mimetype": "text/x-python",
   "name": "python",
   "nbconvert_exporter": "python",
   "pygments_lexer": "ipython3",
   "version": "3.7.1 (default, Jul 27 2021, 18:42:28) \n[GCC 9.3.0]"
  },
  "orig_nbformat": 4
 },
 "nbformat": 4,
 "nbformat_minor": 2
}
