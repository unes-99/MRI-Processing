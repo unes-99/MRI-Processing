{
 "cells": [
  {
   "attachments": {},
   "cell_type": "markdown",
   "metadata": {},
   "source": [
    "### Registration and masks"
   ]
  },
  {
   "attachments": {},
   "cell_type": "markdown",
   "metadata": {},
   "source": [
    "**Learning outcomes:**\n",
    "- How to apply registration to an image and its corresponding mask using ants."
   ]
  },
  {
   "cell_type": "code",
   "metadata": {
    "ExecuteTime": {
     "end_time": "2025-01-19T16:08:20.478937Z",
     "start_time": "2025-01-19T16:08:18.575537Z"
    }
   },
   "source": [
    "%matplotlib inline\n",
    "\n",
    "import os\n",
    "from helpers import *\n",
    "\n",
    "import ants\n",
    "# noinspection PyPep8Naming\n",
    "import SimpleITK as sitk\n",
    "\n",
    "print(f'AntsPy version = {ants.__version__}')\n",
    "print(f'SimpleITK version = {sitk.__version__}')"
   ],
   "outputs": [
    {
     "name": "stdout",
     "output_type": "stream",
     "text": [
      "AntsPy version = 0.5.4\n",
      "SimpleITK version = 2.4.1\n"
     ]
    }
   ],
   "execution_count": 1
  },
  {
   "cell_type": "code",
   "metadata": {
    "ExecuteTime": {
     "end_time": "2025-01-19T16:08:20.525800Z",
     "start_time": "2025-01-19T16:08:20.520286Z"
    }
   },
   "source": [
    "BASE_DIR = os.path.dirname(os.path.dirname(os.path.abspath(\"__file__\")))\n",
    "print(f'project folder = {BASE_DIR}')"
   ],
   "outputs": [
    {
     "name": "stdout",
     "output_type": "stream",
     "text": [
      "project folder = /home/younes/PycharmProjects/MRI-preprocessing-techniques\n"
     ]
    }
   ],
   "execution_count": 2
  },
  {
   "cell_type": "code",
   "metadata": {
    "ExecuteTime": {
     "end_time": "2025-01-19T16:08:20.681702Z",
     "start_time": "2025-01-19T16:08:20.678616Z"
    }
   },
   "source": [
    "raw_examples = [\n",
    "    'brain-lesion_T1w.nii.gz',\n",
    "]"
   ],
   "outputs": [],
   "execution_count": 3
  },
  {
   "cell_type": "markdown",
   "metadata": {},
   "source": [
    "#### Raw image"
   ]
  },
  {
   "cell_type": "code",
   "metadata": {
    "ExecuteTime": {
     "end_time": "2025-01-19T16:08:21.103496Z",
     "start_time": "2025-01-19T16:08:20.734328Z"
    }
   },
   "source": [
    "raw_example = raw_examples[0]\n",
    "raw_img_path = os.path.join(BASE_DIR, 'assets', 'raw_examples', raw_example)\n",
    "raw_img_ants = ants.image_read(raw_img_path, reorient='IAL')\n",
    "\n",
    "explore_3D_array(arr=raw_img_ants.numpy())"
   ],
   "outputs": [
    {
     "data": {
      "text/plain": [
       "interactive(children=(IntSlider(value=95, description='SLICE', max=191), Output()), _dom_classes=('widget-inte…"
      ],
      "application/vnd.jupyter.widget-view+json": {
       "version_major": 2,
       "version_minor": 0,
       "model_id": "81aad9c803324357a0d5568ada3ceb29"
      }
     },
     "metadata": {},
     "output_type": "display_data"
    }
   ],
   "execution_count": 4
  },
  {
   "cell_type": "code",
   "metadata": {
    "ExecuteTime": {
     "end_time": "2025-01-19T16:08:21.505168Z",
     "start_time": "2025-01-19T16:08:21.151090Z"
    }
   },
   "source": [
    "mask_example = add_suffix_to_filename(raw_example, suffix='mask')\n",
    "mask_img_path = os.path.join(BASE_DIR, 'assets', 'raw_examples', mask_example)\n",
    "mask_img_ants = ants.image_read(mask_img_path, reorient='IAL')\n",
    "\n",
    "explore_3D_array_with_mask_contour(\n",
    "    arr=raw_img_ants.numpy(),\n",
    "    mask=mask_img_ants.numpy()\n",
    ")"
   ],
   "outputs": [
    {
     "data": {
      "text/plain": [
       "interactive(children=(IntSlider(value=95, description='SLICE', max=191), Output()), _dom_classes=('widget-inte…"
      ],
      "application/vnd.jupyter.widget-view+json": {
       "version_major": 2,
       "version_minor": 0,
       "model_id": "99efc501595b486e941a8ab12bc8b104"
      }
     },
     "metadata": {},
     "output_type": "display_data"
    }
   ],
   "execution_count": 5
  },
  {
   "cell_type": "markdown",
   "metadata": {},
   "source": [
    "#### Template image"
   ]
  },
  {
   "cell_type": "code",
   "metadata": {
    "ExecuteTime": {
     "end_time": "2025-01-19T16:08:22.100892Z",
     "start_time": "2025-01-19T16:08:21.559372Z"
    }
   },
   "source": [
    "template_img_path = os.path.join(BASE_DIR, 'assets', 'templates', 'mni_icbm152_t1_tal_nlin_sym_09a.nii')\n",
    "template_img_ants = ants.image_read(template_img_path, reorient='IAL')\n",
    "\n",
    "explore_3D_array(arr = template_img_ants.numpy())"
   ],
   "outputs": [
    {
     "data": {
      "text/plain": [
       "interactive(children=(IntSlider(value=94, description='SLICE', max=188), Output()), _dom_classes=('widget-inte…"
      ],
      "application/vnd.jupyter.widget-view+json": {
       "version_major": 2,
       "version_minor": 0,
       "model_id": "ca0e8107afad4c4f80d65eb2a1bbd73d"
      }
     },
     "metadata": {},
     "output_type": "display_data"
    }
   ],
   "execution_count": 6
  },
  {
   "cell_type": "code",
   "metadata": {
    "ExecuteTime": {
     "end_time": "2025-01-19T16:08:22.160720Z",
     "start_time": "2025-01-19T16:08:22.152286Z"
    }
   },
   "source": [
    "print('\\t\\tRAW IMG')\n",
    "print(raw_img_ants)\n",
    "\n",
    "print('\\t\\tTEMPLATE IMG')\n",
    "print(template_img_ants)\n"
   ],
   "outputs": [
    {
     "name": "stdout",
     "output_type": "stream",
     "text": [
      "\t\tRAW IMG\n",
      "ANTsImage (IAL)\n",
      "\t Pixel Type : float (float32)\n",
      "\t Components : 1\n",
      "\t Dimensions : (192, 192, 160)\n",
      "\t Spacing    : (1.25, 1.25, 1.2)\n",
      "\t Origin     : (98.1114, -149.1525, -129.5975)\n",
      "\t Direction  : [-0.  0. -1.  0.  1.  0.  1.  0.  0.]\n",
      "\n",
      "\t\tTEMPLATE IMG\n",
      "ANTsImage (IAL)\n",
      "\t Pixel Type : float (float32)\n",
      "\t Components : 1\n",
      "\t Dimensions : (189, 233, 197)\n",
      "\t Spacing    : (1.0, 1.0, 1.0)\n",
      "\t Origin     : (98.0, -98.0, -72.0)\n",
      "\t Direction  : [ 0.  0. -1.  0.  1.  0.  1.  0.  0.]\n",
      "\n"
     ]
    }
   ],
   "execution_count": 7
  },
  {
   "cell_type": "markdown",
   "metadata": {},
   "source": [
    "#### Registration"
   ]
  },
  {
   "cell_type": "code",
   "metadata": {
    "ExecuteTime": {
     "end_time": "2025-01-19T16:09:41.887605Z",
     "start_time": "2025-01-19T16:08:22.208683Z"
    }
   },
   "source": [
    "transformation = ants.registration(\n",
    "    fixed=template_img_ants,\n",
    "    moving=raw_img_ants, \n",
    "    type_of_transform='SyN',\n",
    "    verbose=True\n",
    ")"
   ],
   "outputs": [
    {
     "name": "stdout",
     "output_type": "stream",
     "text": [
      "antsRegistration -d 3 -r [0x748fd8ef2768,0x748fd908b808,1] -m mattes[0x748fd8ef2768,0x748fd908b808,1,32,regular,0.2] -t Affine[0.25] -c 2100x1200x1200x0 -s 3x2x1x0 -f 4x2x2x1 -x [NA,NA] -m mattes[0x748fd8ef2768,0x748fd908b808,1,32] -t SyN[0.200000,3.000000,0.000000] -c [40x20x0,1e-7,8] -s 2x1x0 -f 4x2x1 -u 1 -z 1 -o [/tmp/tmpi52lc7ly,0x748fd8ef1e88,0x748fd8ef30c8] -x [NA,NA] --float 1 --write-composite-transform 0 -v 1\n",
      "All_Command_lines_OK\n",
      "Using single precision for computations.\n",
      "=============================================================================\n",
      "The composite transform comprises the following transforms (in order): \n",
      "  1. Center of mass alignment using fixed image: 0x748fd8ef2768 and moving image: 0x748fd908b808 (type = Euler3DTransform)\n",
      "=============================================================================\n",
      "  Reading mask(s).\n",
      "    Registration stage 0\n",
      "      No fixed mask\n",
      "      No moving mask\n",
      "    Registration stage 1\n",
      "      No fixed mask\n",
      "      No moving mask\n",
      "  number of levels = 4\n",
      "  number of levels = 3\n",
      "  fixed image: 0x748fd8ef2768\n",
      "  moving image: 0x748fd908b808\n",
      "  fixed image: 0x748fd8ef2768\n",
      "  moving image: 0x748fd908b808\n",
      "Dimension = 3\n",
      "Number of stages = 2\n",
      "Use histogram matching = true\n",
      "Winsorize image intensities = false\n",
      "  Lower quantile = 0\n",
      "  Upper quantile = 1\n",
      "\n",
      "\n",
      "Stage 1 State\n",
      "   Image metric = MattesMI\n",
      "     Fixed image = Image (0x3d762fa0)\n",
      "  RTTI typeinfo:   itk::Image<float, 3u>\n",
      "  Reference Count: 2\n",
      "  Modified Time: 2861\n",
      "  Debug: Off\n",
      "  Object Name: \n",
      "  Observers: \n",
      "    none\n",
      "  Source: (none)\n",
      "  Source output name: (none)\n",
      "  Release Data: Off\n",
      "  Data Released: False\n",
      "  Global Release Data: Off\n",
      "  PipelineMTime: 0\n",
      "  UpdateMTime: 2833\n",
      "  RealTimeStamp: 0 seconds \n",
      "  LargestPossibleRegion: \n",
      "    Dimension: 3\n",
      "    Index: [0, 0, 0]\n",
      "    Size: [189, 233, 197]\n",
      "  BufferedRegion: \n",
      "    Dimension: 3\n",
      "    Index: [0, 0, 0]\n",
      "    Size: [189, 233, 197]\n",
      "  RequestedRegion: \n",
      "    Dimension: 3\n",
      "    Index: [0, 0, 0]\n",
      "    Size: [189, 233, 197]\n",
      "  Spacing: [1, 1, 1]\n",
      "  Origin: [98, -98, -72]\n",
      "  Direction: \n",
      "0 0 -1\n",
      "0 1 0\n",
      "1 0 0\n",
      "\n",
      "  IndexToPointMatrix: \n",
      "0 0 -1\n",
      "0 1 0\n",
      "1 0 0\n",
      "\n",
      "  PointToIndexMatrix: \n",
      "0 0 1\n",
      "0 1 0\n",
      "-1 0 0\n",
      "\n",
      "  Inverse Direction: \n",
      "0 0 1\n",
      "0 1 0\n",
      "-1 0 0\n",
      "\n",
      "  PixelContainer: \n",
      "    ImportImageContainer (0x3d87e870)\n",
      "      RTTI typeinfo:   itk::ImportImageContainer<unsigned long, float>\n",
      "      Reference Count: 1\n",
      "      Modified Time: 2831\n",
      "      Debug: Off\n",
      "      Object Name: \n",
      "      Observers: \n",
      "        none\n",
      "      Pointer: 0x748fafc00010\n",
      "      Container manages memory: true\n",
      "      Size: 8675289\n",
      "      Capacity: 8675289\n",
      "\n",
      "     Moving image = Image (0x40760a60)\n",
      "  RTTI typeinfo:   itk::Image<float, 3u>\n",
      "  Reference Count: 2\n",
      "  Modified Time: 2862\n",
      "  Debug: Off\n",
      "  Object Name: \n",
      "  Observers: \n",
      "    none\n",
      "  Source: (none)\n",
      "  Source output name: (none)\n",
      "  Release Data: Off\n",
      "  Data Released: False\n",
      "  Global Release Data: Off\n",
      "  PipelineMTime: 0\n",
      "  UpdateMTime: 2859\n",
      "  RealTimeStamp: 0 seconds \n",
      "  LargestPossibleRegion: \n",
      "    Dimension: 3\n",
      "    Index: [0, 0, 0]\n",
      "    Size: [192, 192, 160]\n",
      "  BufferedRegion: \n",
      "    Dimension: 3\n",
      "    Index: [0, 0, 0]\n",
      "    Size: [192, 192, 160]\n",
      "  RequestedRegion: \n",
      "    Dimension: 3\n",
      "    Index: [0, 0, 0]\n",
      "    Size: [192, 192, 160]\n",
      "  Spacing: [1.25, 1.25, 1.2]\n",
      "  Origin: [98.1114, -149.153, -129.597]\n",
      "  Direction: \n",
      "-0 0 -1\n",
      "0 1 0\n",
      "1 0 0\n",
      "\n",
      "  IndexToPointMatrix: \n",
      "0 0 -1.2\n",
      "0 1.25 0\n",
      "1.25 0 0\n",
      "\n",
      "  PointToIndexMatrix: \n",
      "0 0 0.8\n",
      "0 0.8 0\n",
      "-0.833333 0 0\n",
      "\n",
      "  Inverse Direction: \n",
      "0 0 1\n",
      "0 1 0\n",
      "-1 0 0\n",
      "\n",
      "  PixelContainer: \n",
      "    ImportImageContainer (0x3d8e6380)\n",
      "      RTTI typeinfo:   itk::ImportImageContainer<unsigned long, float>\n",
      "      Reference Count: 1\n",
      "      Modified Time: 2857\n",
      "      Debug: Off\n",
      "      Object Name: \n",
      "      Observers: \n",
      "        none\n",
      "      Pointer: 0x4952b2b0\n",
      "      Container manages memory: true\n",
      "      Size: 5898240\n",
      "      Capacity: 5898240\n",
      "\n",
      "     Weighting = 1\n",
      "     Sampling strategy = regular\n",
      "     Number of bins = 32\n",
      "     Radius = 4\n",
      "     Sampling percentage  = 0.2\n",
      "   Transform = Affine\n",
      "     Gradient step = 0.25\n",
      "     Update field sigma (voxel space) = 0\n",
      "     Total field sigma (voxel space) = 0\n",
      "     Update field time sigma = 0\n",
      "     Total field time sigma  = 0\n",
      "     Number of time indices = 0\n",
      "     Number of time point samples = 0\n",
      "Stage 2 State\n",
      "   Image metric = MattesMI\n",
      "     Fixed image = Image (0x40761ab0)\n",
      "  RTTI typeinfo:   itk::Image<float, 3u>\n",
      "  Reference Count: 2\n",
      "  Modified Time: 2913\n",
      "  Debug: Off\n",
      "  Object Name: \n",
      "  Observers: \n",
      "    none\n",
      "  Source: (none)\n",
      "  Source output name: (none)\n",
      "  Release Data: Off\n",
      "  Data Released: False\n",
      "  Global Release Data: Off\n",
      "  PipelineMTime: 0\n",
      "  UpdateMTime: 2885\n",
      "  RealTimeStamp: 0 seconds \n",
      "  LargestPossibleRegion: \n",
      "    Dimension: 3\n",
      "    Index: [0, 0, 0]\n",
      "    Size: [189, 233, 197]\n",
      "  BufferedRegion: \n",
      "    Dimension: 3\n",
      "    Index: [0, 0, 0]\n",
      "    Size: [189, 233, 197]\n",
      "  RequestedRegion: \n",
      "    Dimension: 3\n",
      "    Index: [0, 0, 0]\n",
      "    Size: [189, 233, 197]\n",
      "  Spacing: [1, 1, 1]\n",
      "  Origin: [98, -98, -72]\n",
      "  Direction: \n",
      "0 0 -1\n",
      "0 1 0\n",
      "1 0 0\n",
      "\n",
      "  IndexToPointMatrix: \n",
      "0 0 -1\n",
      "0 1 0\n",
      "1 0 0\n",
      "\n",
      "  PointToIndexMatrix: \n",
      "0 0 1\n",
      "0 1 0\n",
      "-1 0 0\n",
      "\n",
      "  Inverse Direction: \n",
      "0 0 1\n",
      "0 1 0\n",
      "-1 0 0\n",
      "\n",
      "  PixelContainer: \n",
      "    ImportImageContainer (0x4076ac90)\n",
      "      RTTI typeinfo:   itk::ImportImageContainer<unsigned long, float>\n",
      "      Reference Count: 1\n",
      "      Modified Time: 2883\n",
      "      Debug: Off\n",
      "      Object Name: \n",
      "      Observers: \n",
      "        none\n",
      "      Pointer: 0x748fada00010\n",
      "      Container manages memory: true\n",
      "      Size: 8675289\n",
      "      Capacity: 8675289\n",
      "\n",
      "     Moving image = Image (0x40761d40)\n",
      "  RTTI typeinfo:   itk::Image<float, 3u>\n",
      "  Reference Count: 2\n",
      "  Modified Time: 2914\n",
      "  Debug: Off\n",
      "  Object Name: \n",
      "  Observers: \n",
      "    none\n",
      "  Source: (none)\n",
      "  Source output name: (none)\n",
      "  Release Data: Off\n",
      "  Data Released: False\n",
      "  Global Release Data: Off\n",
      "  PipelineMTime: 0\n",
      "  UpdateMTime: 2911\n",
      "  RealTimeStamp: 0 seconds \n",
      "  LargestPossibleRegion: \n",
      "    Dimension: 3\n",
      "    Index: [0, 0, 0]\n",
      "    Size: [192, 192, 160]\n",
      "  BufferedRegion: \n",
      "    Dimension: 3\n",
      "    Index: [0, 0, 0]\n",
      "    Size: [192, 192, 160]\n",
      "  RequestedRegion: \n",
      "    Dimension: 3\n",
      "    Index: [0, 0, 0]\n",
      "    Size: [192, 192, 160]\n",
      "  Spacing: [1.25, 1.25, 1.2]\n",
      "  Origin: [98.1114, -149.153, -129.597]\n",
      "  Direction: \n",
      "-0 0 -1\n",
      "0 1 0\n",
      "1 0 0\n",
      "\n",
      "  IndexToPointMatrix: \n",
      "0 0 -1.2\n",
      "0 1.25 0\n",
      "1.25 0 0\n",
      "\n",
      "  PointToIndexMatrix: \n",
      "0 0 0.8\n",
      "0 0.8 0\n",
      "-0.833333 0 0\n",
      "\n",
      "  Inverse Direction: \n",
      "0 0 1\n",
      "0 1 0\n",
      "-1 0 0\n",
      "\n",
      "  PixelContainer: \n",
      "    ImportImageContainer (0x3d8f0770)\n",
      "      RTTI typeinfo:   itk::ImportImageContainer<unsigned long, float>\n",
      "      Reference Count: 1\n",
      "      Modified Time: 2909\n",
      "      Debug: Off\n",
      "      Object Name: \n",
      "      Observers: \n",
      "        none\n",
      "      Pointer: 0x4abab2c0\n",
      "      Container manages memory: true\n",
      "      Size: 5898240\n",
      "      Capacity: 5898240\n",
      "\n",
      "     Weighting = 1\n",
      "     Sampling strategy = none\n",
      "     Number of bins = 32\n",
      "     Radius = 4\n",
      "     Sampling percentage  = 1\n",
      "   Transform = SyN\n",
      "     Gradient step = 0.2\n",
      "     Update field sigma (voxel space) = 3\n",
      "     Total field sigma (voxel space) = 0\n",
      "     Update field time sigma = 0\n",
      "     Total field time sigma  = 0\n",
      "     Number of time indices = 0\n",
      "     Number of time point samples = 0\n",
      "Registration using 2 total stages.\n",
      "\n",
      "Stage 0\n",
      "  iterations = 2100x1200x1200x0\n",
      "  convergence threshold = 1e-06\n",
      "  convergence window size = 10\n",
      "  number of levels = 4\n",
      "  using the Mattes MI metric (number of bins = 32, weight = 1, use gradient filter = 0)\n",
      "  preprocessing:  histogram matching the images\n",
      "  Shrink factors (level 1 out of 4): [4, 4, 4]\n",
      "  Shrink factors (level 2 out of 4): [2, 2, 2]\n",
      "  Shrink factors (level 3 out of 4): [2, 2, 2]\n",
      "  Shrink factors (level 4 out of 4): [1, 1, 1]\n",
      "  smoothing sigmas per level: [3, 2, 1, 0]\n",
      "  regular sampling (percentage = 0.2)\n",
      "\n",
      "*** Running AffineTransform registration ***\n",
      "\n",
      "DIAGNOSTIC,Iteration,metricValue,convergenceValue,ITERATION_TIME_INDEX,SINCE_LAST\n",
      " 2DIAGNOSTIC,     1, -5.059714913368e-01, inf, 4.1456e-01, 4.1456e-01, \n",
      " 2DIAGNOSTIC,     2, -5.083619356155e-01, inf, 4.3843e-01, 2.3869e-02, \n",
      " 2DIAGNOSTIC,     3, -5.119906067848e-01, inf, 4.6216e-01, 2.3728e-02, \n",
      " 2DIAGNOSTIC,     4, -5.172830820084e-01, inf, 4.8766e-01, 2.5504e-02, \n",
      " 2DIAGNOSTIC,     5, -5.259680747986e-01, inf, 5.1285e-01, 2.5191e-02, \n",
      " 2DIAGNOSTIC,     6, -5.399464964867e-01, inf, 5.3807e-01, 2.5214e-02, \n",
      " 2DIAGNOSTIC,     7, -5.650059580803e-01, inf, 5.6312e-01, 2.5055e-02, \n",
      " 2DIAGNOSTIC,     8, -6.089221239090e-01, inf, 6.0436e-01, 4.1238e-02, \n",
      " 2DIAGNOSTIC,     9, -6.154026389122e-01, inf, 6.3314e-01, 2.8777e-02, \n",
      " 2DIAGNOSTIC,    10, -6.222581863403e-01, 1.557223405689e-02, 6.6166e-01, 2.8523e-02, \n",
      " 2DIAGNOSTIC,    11, -6.566115617752e-01, 1.639636233449e-02, 6.9192e-01, 3.0261e-02, \n",
      " 2DIAGNOSTIC,    12, -6.745041608810e-01, 1.635787077248e-02, 7.3289e-01, 4.0968e-02, \n",
      " 2DIAGNOSTIC,    13, -6.796643733978e-01, 1.516625564545e-02, 7.5796e-01, 2.5075e-02, \n",
      " 2DIAGNOSTIC,    14, -6.963853836060e-01, 1.356840133667e-02, 7.8321e-01, 2.5247e-02, \n",
      " 2DIAGNOSTIC,    15, -7.089090943336e-01, 1.166265178472e-02, 8.1048e-01, 2.7273e-02, \n",
      " 2DIAGNOSTIC,    16, -7.237216830254e-01, 9.789120405912e-03, 8.3993e-01, 2.9447e-02, \n",
      " 2DIAGNOSTIC,    17, -7.589035034180e-01, 8.863179013133e-03, 8.6848e-01, 2.8548e-02, \n",
      " 2DIAGNOSTIC,    18, -8.134331107140e-01, 9.700839407742e-03, 9.2211e-01, 5.3635e-02, \n",
      " 2DIAGNOSTIC,    19, -8.151741027832e-01, 9.716015309095e-03, 9.4763e-01, 2.5513e-02, \n",
      " 2DIAGNOSTIC,    20, -8.230413794518e-01, 9.162636473775e-03, 9.7294e-01, 2.5315e-02, \n",
      " 2DIAGNOSTIC,    21, -8.321829438210e-01, 8.732016198337e-03, 9.9876e-01, 2.5821e-02, \n",
      " 2DIAGNOSTIC,    22, -8.404105901718e-01, 8.037442341447e-03, 1.0252e+00, 2.6418e-02, \n",
      " 2DIAGNOSTIC,    23, -8.463509082794e-01, 6.856998894364e-03, 1.0514e+00, 2.6196e-02, \n",
      " 2DIAGNOSTIC,    24, -8.500384688377e-01, 5.523629020900e-03, 1.0809e+00, 2.9515e-02, \n",
      " 2DIAGNOSTIC,    25, -8.525846004486e-01, 4.073186311871e-03, 1.1288e+00, 4.7902e-02, \n",
      " 2DIAGNOSTIC,    26, -8.526885509491e-01, 2.610007300973e-03, 1.1541e+00, 2.5329e-02, \n",
      " 2DIAGNOSTIC,    27, -8.530750870705e-01, 1.550694345497e-03, 1.1801e+00, 2.5982e-02, \n",
      " 2DIAGNOSTIC,    28, -8.537493348122e-01, 1.237884862348e-03, 1.2072e+00, 2.7081e-02, \n",
      " 2DIAGNOSTIC,    29, -8.547182083130e-01, 8.715015719645e-04, 1.2328e+00, 2.5632e-02, \n",
      " 2DIAGNOSTIC,    30, -8.559449315071e-01, 5.718669272028e-04, 1.2584e+00, 2.5572e-02, \n",
      " 2DIAGNOSTIC,    31, -8.574969172478e-01, 3.767565067392e-04, 1.2838e+00, 2.5434e-02, \n",
      " 2DIAGNOSTIC,    32, -8.596389889717e-01, 2.871281758416e-04, 1.3110e+00, 2.7140e-02, \n",
      " 2DIAGNOSTIC,    33, -8.639795780182e-01, 2.976332325488e-04, 1.3388e+00, 2.7871e-02, \n",
      " 2DIAGNOSTIC,    34, -8.698130249977e-01, 3.865409235004e-04, 1.3637e+00, 2.4844e-02, \n",
      " 2DIAGNOSTIC,    35, -8.950939774513e-01, 7.391138351522e-04, 1.4098e+00, 4.6153e-02, \n",
      " 2DIAGNOSTIC,    36, -8.981221318245e-01, 1.025047851726e-03, 1.4386e+00, 2.8729e-02, \n",
      " 2DIAGNOSTIC,    37, -8.995510935783e-01, 1.216872246005e-03, 1.4672e+00, 2.8680e-02, \n",
      " 2DIAGNOSTIC,    38, -9.037717580795e-01, 1.333329477347e-03, 1.4933e+00, 2.6036e-02, \n",
      " 2DIAGNOSTIC,    39, -9.174128770828e-01, 1.454885583371e-03, 1.5269e+00, 3.3641e-02, \n",
      " 2DIAGNOSTIC,    40, -9.405301809311e-01, 1.651852391660e-03, 1.5678e+00, 4.0894e-02, \n",
      " 2DIAGNOSTIC,    41, -9.444594383240e-01, 1.725535606965e-03, 1.5929e+00, 2.5127e-02, \n",
      " 2DIAGNOSTIC,    42, -9.599154591560e-01, 1.791964634322e-03, 1.6194e+00, 2.6443e-02, \n",
      " 2DIAGNOSTIC,    43, -9.664832949638e-01, 1.777998986654e-03, 1.6446e+00, 2.5263e-02, \n",
      " 2DIAGNOSTIC,    44, -9.715638756752e-01, 1.678822562099e-03, 1.6736e+00, 2.8984e-02, \n",
      " 2DIAGNOSTIC,    45, -9.752829074860e-01, 1.658119610511e-03, 1.7083e+00, 3.4692e-02, \n",
      " 2DIAGNOSTIC,    46, -9.775634407997e-01, 1.523212180473e-03, 1.7371e+00, 2.8782e-02, \n",
      " 2DIAGNOSTIC,    47, -9.796149730682e-01, 1.278481562622e-03, 1.7690e+00, 3.1904e-02, \n",
      " 2DIAGNOSTIC,    48, -9.801606535912e-01, 9.586736559868e-04, 1.7974e+00, 2.8398e-02, \n",
      " 2DIAGNOSTIC,    49, -9.809578657150e-01, 6.655771867372e-04, 1.8243e+00, 2.6923e-02, \n",
      " 2DIAGNOSTIC,    50, -9.830662608147e-01, 5.034690257162e-04, 1.8494e+00, 2.5072e-02, \n",
      " 2DIAGNOSTIC,    51, -9.841927886009e-01, 3.335533256177e-04, 1.8739e+00, 2.4519e-02, \n",
      " 2DIAGNOSTIC,    52, -9.858401417732e-01, 2.549540367909e-04, 1.8993e+00, 2.5418e-02, \n",
      " 2DIAGNOSTIC,    53, -9.873294234276e-01, 2.084373845719e-04, 1.9398e+00, 4.0509e-02, \n",
      " 2DIAGNOSTIC,    54, -9.876657724380e-01, 1.787176588550e-04, 1.9660e+00, 2.6118e-02, \n",
      " 2DIAGNOSTIC,    55, -9.878798723221e-01, 1.579109957675e-04, 1.9945e+00, 2.8571e-02, \n",
      " 2DIAGNOSTIC,    56, -9.882625341415e-01, 1.391283585690e-04, 2.0229e+00, 2.8392e-02, \n",
      " 2DIAGNOSTIC,    57, -9.886264801025e-01, 1.224445586558e-04, 2.0512e+00, 2.8322e-02, \n",
      " 2DIAGNOSTIC,    58, -9.895871281624e-01, 1.036393223330e-04, 2.0793e+00, 2.8083e-02, \n",
      " 2DIAGNOSTIC,    59, -9.901230931282e-01, 8.319281914737e-05, 2.1152e+00, 3.5900e-02, \n",
      " 2DIAGNOSTIC,    60, -9.902795553207e-01, 6.859587301733e-05, 2.1445e+00, 2.9219e-02, \n",
      " 2DIAGNOSTIC,    61, -9.905617833138e-01, 5.583842357737e-05, 2.1691e+00, 2.4693e-02, \n",
      " 2DIAGNOSTIC,    62, -9.906244277954e-01, 4.740355507238e-05, 2.1942e+00, 2.5040e-02, \n",
      " 2DIAGNOSTIC,    63, -9.906752705574e-01, 4.298992280383e-05, 2.2252e+00, 3.1026e-02, \n",
      " 2DIAGNOSTIC,    64, -9.907061457634e-01, 3.658112837002e-05, 2.2502e+00, 2.4953e-02, \n",
      " 2DIAGNOSTIC,    65, -9.907594323158e-01, 2.835419218172e-05, 2.2785e+00, 2.8289e-02, \n",
      " 2DIAGNOSTIC,    66, -9.907760620117e-01, 1.980392153200e-05, 2.3072e+00, 2.8710e-02, \n",
      " 2DIAGNOSTIC,    67, -9.907856583595e-01, 1.147091825260e-05, 2.3448e+00, 3.7649e-02, \n",
      " 2DIAGNOSTIC,    68, -9.907883405685e-01, 7.065847967169e-06, 2.3735e+00, 2.8690e-02, \n",
      " 2DIAGNOSTIC,    69, -9.907934069633e-01, 4.794793767360e-06, 2.4015e+00, 2.7974e-02, \n",
      " 2DIAGNOSTIC,    70, -9.907994866371e-01, 2.926340584963e-06, 2.4267e+00, 2.5248e-02, \n",
      " 2DIAGNOSTIC,    71, -9.908059835434e-01, 2.232469341834e-06, 2.4515e+00, 2.4777e-02, \n",
      " 2DIAGNOSTIC,    72, -9.908110499382e-01, 1.705315071376e-06, 2.4845e+00, 3.3020e-02, \n",
      " 2DIAGNOSTIC,    73, -9.908159971237e-01, 1.332286160505e-06, 2.5141e+00, 2.9540e-02, \n",
      " 2DIAGNOSTIC,    74, -9.908168911934e-01, 1.026954237204e-06, 2.5432e+00, 2.9093e-02, \n",
      "DIAGNOSTIC,Iteration,metricValue,convergenceValue,ITERATION_TIME_INDEX,SINCE_LAST\n",
      " 2DIAGNOSTIC,     1, -8.819745182991e-01, inf, 3.1870e+00, 6.4384e-01, \n",
      " 2DIAGNOSTIC,     2, -8.825868368149e-01, inf, 3.3868e+00, 1.9978e-01, \n",
      " 2DIAGNOSTIC,     3, -8.827096819878e-01, inf, 3.5796e+00, 1.9281e-01, \n",
      " 2DIAGNOSTIC,     4, -8.827708959579e-01, inf, 3.7792e+00, 1.9956e-01, \n",
      " 2DIAGNOSTIC,     5, -8.827840089798e-01, inf, 3.9741e+00, 1.9493e-01, \n",
      " 2DIAGNOSTIC,     6, -8.827936649323e-01, inf, 4.1660e+00, 1.9195e-01, \n",
      " 2DIAGNOSTIC,     7, -8.828021287918e-01, inf, 4.3576e+00, 1.9159e-01, \n",
      " 2DIAGNOSTIC,     8, -8.828200101852e-01, inf, 4.5529e+00, 1.9529e-01, \n",
      " 2DIAGNOSTIC,     9, -8.828289508820e-01, inf, 4.7460e+00, 1.9306e-01, \n",
      " 2DIAGNOSTIC,    10, -8.828396201134e-01, 4.086116678081e-05, 4.9632e+00, 2.1718e-01, \n",
      " 2DIAGNOSTIC,    11, -8.828454613686e-01, 1.551067907712e-05, 5.1598e+00, 1.9660e-01, \n",
      " 2DIAGNOSTIC,    12, -8.828479647636e-01, 9.678066817287e-06, 5.3495e+00, 1.8969e-01, \n",
      " 2DIAGNOSTIC,    13, -8.828492164612e-01, 7.141451533244e-06, 5.5392e+00, 1.8974e-01, \n",
      " 2DIAGNOSTIC,    14, -8.828485608101e-01, 5.926910489507e-06, 5.7112e+00, 1.7202e-01, \n",
      " 2DIAGNOSTIC,    15, -8.828490376472e-01, 4.831444584852e-06, 5.9015e+00, 1.9033e-01, \n",
      " 2DIAGNOSTIC,    16, -8.828493356705e-01, 3.824053692369e-06, 6.0971e+00, 1.9559e-01, \n",
      " 2DIAGNOSTIC,    17, -8.828507065773e-01, 2.946516815427e-06, 6.2872e+00, 1.9007e-01, \n",
      " 2DIAGNOSTIC,    18, -8.828501105309e-01, 2.374764335400e-06, 6.4605e+00, 1.7330e-01, \n",
      " 2DIAGNOSTIC,    19, -8.828511238098e-01, 1.973016878765e-06, 6.6282e+00, 1.6766e-01, \n",
      " 2DIAGNOSTIC,    20, -8.828516006470e-01, 1.760908617143e-06, 6.8263e+00, 1.9815e-01, \n",
      " 2DIAGNOSTIC,    21, -8.828540444374e-01, 1.678769990576e-06, 7.0217e+00, 1.9539e-01, \n",
      " 2DIAGNOSTIC,    22, -8.828546404839e-01, 1.632609269109e-06, 7.2581e+00, 2.3641e-01, \n",
      " 2DIAGNOSTIC,    23, -8.828545212746e-01, 1.589567318661e-06, 7.5196e+00, 2.6154e-01, \n",
      " 2DIAGNOSTIC,    24, -8.828542828560e-01, 1.519388092674e-06, 7.7128e+00, 1.9316e-01, \n",
      " 2DIAGNOSTIC,    25, -8.828546404839e-01, 1.447265390198e-06, 7.9033e+00, 1.9045e-01, \n",
      " 2DIAGNOSTIC,    26, -8.828541040421e-01, 1.360183659926e-06, 8.0956e+00, 1.9238e-01, \n",
      " 2DIAGNOSTIC,    27, -8.828542828560e-01, 1.285567691411e-06, 8.2961e+00, 2.0048e-01, \n",
      " 2DIAGNOSTIC,    28, -8.828546404839e-01, 1.203547640216e-06, 8.4683e+00, 1.7216e-01, \n",
      " 2DIAGNOSTIC,    29, -8.828543424606e-01, 1.128890858126e-06, 8.6601e+00, 1.9181e-01, \n",
      " 2DIAGNOSTIC,    30, -8.828543424606e-01, 1.060749582393e-06, 8.8587e+00, 1.9861e-01, \n",
      " 2DIAGNOSTIC,    31, -8.828539252281e-01, 1.017881459120e-06, 9.0732e+00, 2.1452e-01, \n",
      "DIAGNOSTIC,Iteration,metricValue,convergenceValue,ITERATION_TIME_INDEX,SINCE_LAST\n",
      " 2DIAGNOSTIC,     1, -7.909595370293e-01, inf, 9.7529e+00, 6.7969e-01, \n",
      " 2DIAGNOSTIC,     2, -7.915664315224e-01, inf, 1.0102e+01, 3.4895e-01, \n",
      " 2DIAGNOSTIC,     3, -7.915725708008e-01, inf, 1.0270e+01, 1.6810e-01, \n",
      " 2DIAGNOSTIC,     4, -7.915874123573e-01, inf, 1.0439e+01, 1.6907e-01, \n",
      " 2DIAGNOSTIC,     5, -7.916089892387e-01, inf, 1.0615e+01, 1.7600e-01, \n",
      " 2DIAGNOSTIC,     6, -7.916377782822e-01, inf, 1.0783e+01, 1.6839e-01, \n",
      " 2DIAGNOSTIC,     7, -7.916736006737e-01, inf, 1.0951e+01, 1.6751e-01, \n",
      " 2DIAGNOSTIC,     8, -7.917139530182e-01, inf, 1.1128e+01, 1.7682e-01, \n",
      " 2DIAGNOSTIC,     9, -7.917541861534e-01, inf, 1.1300e+01, 1.7238e-01, \n",
      " 2DIAGNOSTIC,    10, -7.917984724045e-01, 4.437071038410e-05, 1.1471e+01, 1.7123e-01, \n",
      " 2DIAGNOSTIC,    11, -7.918401956558e-01, 2.388293614786e-05, 1.1645e+01, 1.7401e-01, \n",
      " 2DIAGNOSTIC,    12, -7.918741106987e-01, 2.408509681118e-05, 1.1935e+01, 2.8969e-01, \n",
      " 2DIAGNOSTIC,    13, -7.918778657913e-01, 2.258288805024e-05, 1.2255e+01, 3.1972e-01, \n",
      " 2DIAGNOSTIC,    14, -7.918792963028e-01, 1.989138218050e-05, 1.2503e+01, 2.4782e-01, \n",
      " 2DIAGNOSTIC,    15, -7.918820381165e-01, 1.652679748076e-05, 1.2711e+01, 2.0829e-01, \n",
      " 2DIAGNOSTIC,    16, -7.918872237206e-01, 1.300435997109e-05, 1.2930e+01, 2.1934e-01, \n",
      " 2DIAGNOSTIC,    17, -7.918895483017e-01, 9.671274710854e-06, 1.3126e+01, 1.9596e-01, \n",
      " 2DIAGNOSTIC,    18, -7.918903827667e-01, 6.807588761149e-06, 1.3349e+01, 2.2322e-01, \n",
      " 2DIAGNOSTIC,    19, -7.918910980225e-01, 4.548744072963e-06, 1.3606e+01, 2.5673e-01, \n",
      " 2DIAGNOSTIC,    20, -7.918919324875e-01, 3.044780214623e-06, 1.3909e+01, 3.0335e-01, \n",
      " 2DIAGNOSTIC,    21, -7.918916344643e-01, 2.239441300844e-06, 1.4146e+01, 2.3625e-01, \n",
      " 2DIAGNOSTIC,    22, -7.918922901154e-01, 2.002507244470e-06, 1.4343e+01, 1.9739e-01, \n",
      " 2DIAGNOSTIC,    23, -7.918926477432e-01, 1.798976313694e-06, 1.4602e+01, 2.5852e-01, \n",
      " 2DIAGNOSTIC,    24, -7.918921709061e-01, 1.587650672263e-06, 1.4938e+01, 3.3652e-01, \n",
      " 2DIAGNOSTIC,    25, -7.918920516968e-01, 1.404935233040e-06, 1.5181e+01, 2.4321e-01, \n",
      " 2DIAGNOSTIC,    26, -7.918920516968e-01, 1.294842718380e-06, 1.5425e+01, 2.4340e-01, \n",
      " 2DIAGNOSTIC,    27, -7.918921113014e-01, 1.217602061843e-06, 1.5671e+01, 2.4600e-01, \n",
      " 2DIAGNOSTIC,    28, -7.918923497200e-01, 1.155599193225e-06, 1.5990e+01, 3.1937e-01, \n",
      " 2DIAGNOSTIC,    29, -7.918930053711e-01, 1.112816448767e-06, 1.6237e+01, 2.4681e-01, \n",
      " 2DIAGNOSTIC,    30, -7.918931841850e-01, 1.083652705347e-06, 1.6515e+01, 2.7782e-01, \n",
      " 2DIAGNOSTIC,    31, -7.918933033943e-01, 1.051927938533e-06, 1.6775e+01, 2.6013e-01, \n",
      " 2DIAGNOSTIC,    32, -7.918929457664e-01, 1.022980200105e-06, 1.7036e+01, 2.6150e-01, \n",
      " 2DIAGNOSTIC,    33, -7.918937206268e-01, 1.005592253023e-06, 1.7326e+01, 2.8998e-01, \n",
      "DIAGNOSTIC,Iteration,metricValue,convergenceValue,ITERATION_TIME_INDEX,SINCE_LAST\n",
      " 2DIAGNOSTIC,     1, -7.256594300270e-01, inf, 1.9794e+01, 2.4680e+00, \n",
      "  Elapsed time (stage 0): 2.0584e+01\n",
      "\n",
      "\n",
      "Stage 1\n",
      "  iterations = 40x20x0\n",
      "  convergence threshold = 1.0000e-07\n",
      "  convergence window size = 8\n",
      "  number of levels = 3\n",
      "  using the Mattes MI metric (number of bins = 32, weight = 1.0000e+00, use gradient filter = 0)\n",
      "  preprocessing:  histogram matching the images\n",
      "  Shrink factors (level 1 out of 3): [4, 4, 4]\n",
      "  Shrink factors (level 2 out of 3): [2, 2, 2]\n",
      "  Shrink factors (level 3 out of 3): [1, 1, 1]\n",
      "  smoothing sigmas per level: [2, 1, 0]\n",
      "  Using default NONE metricSamplingStrategy \n",
      "\n",
      "*** Running SyN registration (varianceForUpdateField = 3.0000e+00, varianceForTotalField = 0.0000e+00) ***\n",
      "\n",
      "XXDIAGNOSTIC,Iteration,metricValue,convergenceValue,ITERATION_TIME_INDEX,SINCE_LAST\n",
      " 1DIAGNOSTIC,     1, -8.675924539566e-01, inf, 6.7637e-01, 6.7637e-01, \n",
      " 1DIAGNOSTIC,     2, -8.988842368126e-01, inf, 9.2372e-01, 2.4735e-01, \n",
      " 1DIAGNOSTIC,     3, -9.309084415436e-01, inf, 1.1435e+00, 2.1981e-01, \n",
      " 1DIAGNOSTIC,     4, -9.522236585617e-01, inf, 1.3599e+00, 2.1637e-01, \n",
      " 1DIAGNOSTIC,     5, -9.693245887756e-01, inf, 1.6031e+00, 2.4323e-01, \n",
      " 1DIAGNOSTIC,     6, -9.824383258820e-01, inf, 1.8748e+00, 2.7172e-01, \n",
      " 1DIAGNOSTIC,     7, -9.909104108810e-01, inf, 2.0992e+00, 2.2437e-01, \n",
      " 1DIAGNOSTIC,     8, -1.000930190086e+00, 1.120784878731e-02, 2.3313e+00, 2.3206e-01, \n",
      " 1DIAGNOSTIC,     9, -1.003311276436e+00, 7.643361575902e-03, 2.5572e+00, 2.2592e-01, \n",
      " 1DIAGNOSTIC,    10, -1.014390707016e+00, 5.317167378962e-03, 2.7859e+00, 2.2867e-01, \n",
      " 1DIAGNOSTIC,    11, -1.015399456024e+00, 3.782682120800e-03, 3.0087e+00, 2.2284e-01, \n",
      " 1DIAGNOSTIC,    12, -1.022950053215e+00, 2.858312567696e-03, 3.2326e+00, 2.2389e-01, \n",
      " 1DIAGNOSTIC,    13, -1.022926568985e+00, 2.150985877961e-03, 3.4565e+00, 2.2390e-01, \n",
      " 1DIAGNOSTIC,    14, -1.029784679413e+00, 1.756864599884e-03, 3.6797e+00, 2.2324e-01, \n",
      " 1DIAGNOSTIC,    15, -1.028454542160e+00, 1.333661493845e-03, 3.9042e+00, 2.2450e-01, \n",
      " 1DIAGNOSTIC,    16, -1.034819126129e+00, 1.145155634731e-03, 4.1335e+00, 2.2926e-01, \n",
      " 1DIAGNOSTIC,    17, -1.034078359604e+00, 8.447152213193e-04, 4.3584e+00, 2.2490e-01, \n",
      " 1DIAGNOSTIC,    18, -1.039147853851e+00, 7.784112822264e-04, 4.5928e+00, 2.3439e-01, \n",
      " 1DIAGNOSTIC,    19, -1.037875890732e+00, 5.993841914460e-04, 4.8152e+00, 2.2245e-01, \n",
      " 1DIAGNOSTIC,    20, -1.042310118675e+00, 5.661753239110e-04, 5.0468e+00, 2.3161e-01, \n",
      " 1DIAGNOSTIC,    21, -1.041418075562e+00, 4.355563141871e-04, 5.2738e+00, 2.2693e-01, \n",
      " 1DIAGNOSTIC,    22, -1.045326590538e+00, 4.284923197702e-04, 5.5066e+00, 2.3289e-01, \n",
      " 1DIAGNOSTIC,    23, -1.044052600861e+00, 3.178488113917e-04, 5.7337e+00, 2.2701e-01, \n",
      " 1DIAGNOSTIC,    24, -1.048074603081e+00, 3.237283672206e-04, 5.9651e+00, 2.3147e-01, \n",
      " 1DIAGNOSTIC,    25, -1.045859575272e+00, 2.383712271694e-04, 6.1887e+00, 2.2362e-01, \n",
      " 1DIAGNOSTIC,    26, -1.050047278404e+00, 2.512162027415e-04, 6.4217e+00, 2.3291e-01, \n",
      " 1DIAGNOSTIC,    27, -1.047683000565e+00, 1.774288248271e-04, 6.6436e+00, 2.2190e-01, \n",
      " 1DIAGNOSTIC,    28, -1.050956368446e+00, 1.805785868783e-04, 6.8771e+00, 2.3350e-01, \n",
      " 1DIAGNOSTIC,    29, -1.049739599228e+00, 1.302542805206e-04, 7.1018e+00, 2.2472e-01, \n",
      " 1DIAGNOSTIC,    30, -1.051676750183e+00, 1.331210369244e-04, 7.3312e+00, 2.2938e-01, \n",
      " 1DIAGNOSTIC,    31, -1.050560116768e+00, 8.843954128679e-05, 7.5563e+00, 2.2516e-01, \n",
      " 1DIAGNOSTIC,    32, -1.053896903992e+00, 1.144167836173e-04, 7.7885e+00, 2.3218e-01, \n",
      " 1DIAGNOSTIC,    33, -1.051661491394e+00, 7.375710265478e-05, 8.0149e+00, 2.2638e-01, \n",
      " 1DIAGNOSTIC,    34, -1.055236458778e+00, 1.053401429090e-04, 8.2467e+00, 2.3184e-01, \n",
      " 1DIAGNOSTIC,    35, -1.053247451782e+00, 7.525853288826e-05, 8.4700e+00, 2.2333e-01, \n",
      " 1DIAGNOSTIC,    36, -1.056098699570e+00, 9.535045683151e-05, 8.7049e+00, 2.3484e-01, \n",
      " 1DIAGNOSTIC,    37, -1.053419589996e+00, 6.337610830087e-05, 8.9278e+00, 2.2295e-01, \n",
      " 1DIAGNOSTIC,    38, -1.057419061661e+00, 7.857423770474e-05, 9.1579e+00, 2.3004e-01, \n",
      " 1DIAGNOSTIC,    39, -1.054818630219e+00, 4.716110561276e-05, 9.3930e+00, 2.3514e-01, \n",
      " 1DIAGNOSTIC,    40, -1.059019327164e+00, 7.664928125450e-05, 9.6249e+00, 2.3183e-01, \n",
      "XXDIAGNOSTIC,Iteration,metricValue,convergenceValue,ITERATION_TIME_INDEX,SINCE_LAST\n",
      " 1DIAGNOSTIC,     1, -9.149839282036e-01, inf, 1.1922e+01, 2.2975e+00, \n",
      " 1DIAGNOSTIC,     2, -9.262338280678e-01, inf, 1.3603e+01, 1.6805e+00, \n",
      " 1DIAGNOSTIC,     3, -9.366472959518e-01, inf, 1.5339e+01, 1.7364e+00, \n",
      " 1DIAGNOSTIC,     4, -9.442737102509e-01, inf, 1.7020e+01, 1.6808e+00, \n",
      " 1DIAGNOSTIC,     5, -9.506317377090e-01, inf, 1.8729e+01, 1.7091e+00, \n",
      " 1DIAGNOSTIC,     6, -9.560263752937e-01, inf, 2.0418e+01, 1.6887e+00, \n",
      " 1DIAGNOSTIC,     7, -9.609271287918e-01, inf, 2.2133e+01, 1.7154e+00, \n",
      " 1DIAGNOSTIC,     8, -9.649833440781e-01, 4.235272295773e-03, 2.3845e+01, 1.7114e+00, \n",
      " 1DIAGNOSTIC,     9, -9.686008691788e-01, 3.151000244543e-03, 2.5644e+01, 1.7989e+00, \n",
      " 1DIAGNOSTIC,    10, -9.718667864799e-01, 2.389619126916e-03, 2.7380e+01, 1.7360e+00, \n",
      " 1DIAGNOSTIC,    11, -9.746584892273e-01, 1.879541669041e-03, 2.9185e+01, 1.8056e+00, \n",
      " 1DIAGNOSTIC,    12, -9.768726825714e-01, 1.494733500294e-03, 3.0949e+01, 1.7642e+00, \n",
      " 1DIAGNOSTIC,    13, -9.781996011734e-01, 1.177033991553e-03, 3.2851e+01, 1.9012e+00, \n",
      " 1DIAGNOSTIC,    14, -9.804722070694e-01, 9.394448716193e-04, 3.5178e+01, 2.3273e+00, \n",
      " 1DIAGNOSTIC,    15, -9.813279509544e-01, 7.401907932945e-04, 3.7675e+01, 2.4974e+00, \n",
      " 1DIAGNOSTIC,    16, -9.833410978317e-01, 5.996600375511e-04, 4.0011e+01, 2.3356e+00, \n",
      " 1DIAGNOSTIC,    17, -9.838811755180e-01, 4.789419181179e-04, 4.1845e+01, 1.8340e+00, \n",
      " 1DIAGNOSTIC,    18, -9.857618808746e-01, 4.072134033777e-04, 4.3560e+01, 1.7147e+00, \n",
      " 1DIAGNOSTIC,    19, -9.860585927963e-01, 3.430667566136e-04, 4.5413e+01, 1.8530e+00, \n",
      " 1DIAGNOSTIC,    20, -9.879324436188e-01, 3.107685479335e-04, 4.7194e+01, 1.7814e+00, \n",
      "  Elapsed time (stage 1): 50.24\n",
      "\n",
      "\n",
      "Total elapsed time: 70.84\n"
     ]
    }
   ],
   "execution_count": 8
  },
  {
   "cell_type": "code",
   "metadata": {
    "ExecuteTime": {
     "end_time": "2025-01-19T16:09:41.987368Z",
     "start_time": "2025-01-19T16:09:41.982136Z"
    }
   },
   "source": [
    "print(transformation)"
   ],
   "outputs": [
    {
     "name": "stdout",
     "output_type": "stream",
     "text": [
      "{'warpedmovout': ANTsImage (IAL)\n",
      "\t Pixel Type : float (float32)\n",
      "\t Components : 1\n",
      "\t Dimensions : (189, 233, 197)\n",
      "\t Spacing    : (1.0, 1.0, 1.0)\n",
      "\t Origin     : (98.0, -98.0, -72.0)\n",
      "\t Direction  : [-0.  0. -1.  0.  1.  0.  1.  0.  0.]\n",
      ", 'warpedfixout': ANTsImage (IAL)\n",
      "\t Pixel Type : float (float32)\n",
      "\t Components : 1\n",
      "\t Dimensions : (192, 192, 160)\n",
      "\t Spacing    : (1.25, 1.25, 1.2)\n",
      "\t Origin     : (98.1114, -149.1525, -129.5975)\n",
      "\t Direction  : [ 0.  0. -1.  0.  1.  0.  1.  0.  0.]\n",
      ", 'fwdtransforms': ['/tmp/tmpi52lc7ly1Warp.nii.gz', '/tmp/tmpi52lc7ly0GenericAffine.mat'], 'invtransforms': ['/tmp/tmpi52lc7ly0GenericAffine.mat', '/tmp/tmpi52lc7ly1InverseWarp.nii.gz']}\n"
     ]
    }
   ],
   "execution_count": 9
  },
  {
   "cell_type": "code",
   "metadata": {
    "ExecuteTime": {
     "end_time": "2025-01-19T16:09:42.316226Z",
     "start_time": "2025-01-19T16:09:42.089972Z"
    }
   },
   "source": [
    "registered_img_ants = transformation['warpedmovout']\n",
    "\n",
    "explore_3D_array(arr=registered_img_ants.numpy())"
   ],
   "outputs": [
    {
     "data": {
      "text/plain": [
       "interactive(children=(IntSlider(value=94, description='SLICE', max=188), Output()), _dom_classes=('widget-inte…"
      ],
      "application/vnd.jupyter.widget-view+json": {
       "version_major": 2,
       "version_minor": 0,
       "model_id": "4a9e291e614c46d9b8d51c9912aaaec6"
      }
     },
     "metadata": {},
     "output_type": "display_data"
    }
   ],
   "execution_count": 10
  },
  {
   "cell_type": "code",
   "metadata": {
    "ExecuteTime": {
     "end_time": "2025-01-19T16:09:42.372886Z",
     "start_time": "2025-01-19T16:09:42.365017Z"
    }
   },
   "source": [
    "out_folder =  os.path.join(BASE_DIR, 'assets', 'preprocessed')\n",
    "out_folder = os.path.join(out_folder, raw_example.split('.')[0]) # create folder with name of the raw file\n",
    "os.makedirs(out_folder, exist_ok=True) # create folder if not exists\n",
    "\n",
    "out_filename = add_suffix_to_filename(raw_example, suffix='registered')\n",
    "out_path = os.path.join(out_folder, out_filename)\n",
    "\n",
    "print(raw_img_path[len(BASE_DIR):])\n",
    "print(out_path[len(BASE_DIR):])"
   ],
   "outputs": [
    {
     "name": "stdout",
     "output_type": "stream",
     "text": [
      "/assets/raw_examples/brain-lesion_T1w.nii.gz\n",
      "/assets/preprocessed/brain-lesion_T1w/brain-lesion_T1w_registered.nii.gz\n"
     ]
    }
   ],
   "execution_count": 11
  },
  {
   "cell_type": "code",
   "metadata": {
    "ExecuteTime": {
     "end_time": "2025-01-19T16:09:43.374002Z",
     "start_time": "2025-01-19T16:09:42.431162Z"
    }
   },
   "source": [
    "registered_img_ants.to_file(out_path)"
   ],
   "outputs": [],
   "execution_count": 12
  },
  {
   "cell_type": "markdown",
   "metadata": {},
   "source": [
    "#### Move raw mask from native space."
   ]
  },
  {
   "cell_type": "code",
   "metadata": {
    "ExecuteTime": {
     "end_time": "2025-01-19T16:09:44.983560Z",
     "start_time": "2025-01-19T16:09:43.393613Z"
    }
   },
   "source": [
    "registered_mask_img_ants = ants.apply_transforms(\n",
    "    moving=mask_img_ants,\n",
    "    fixed=transformation['warpedmovout'],\n",
    "    transformlist=transformation['fwdtransforms'],\n",
    "    verbose=True\n",
    ")"
   ],
   "outputs": [
    {
     "name": "stdout",
     "output_type": "stream",
     "text": [
      "['-d', '3', '-i', '0x748fd8525bc8', '-o', '0x748fd8527368', '-r', '0x748fd8ef2cc8', '-n', 'linear', '-t', '/tmp/tmpi52lc7ly1Warp.nii.gz', '-t', '/tmp/tmpi52lc7ly0GenericAffine.mat']\n",
      "Using double precision for computations.\n",
      "Input scalar image: 0x748fd8525bc8\n",
      "Could not create ImageIO for the input file, assuming dimension = 3 and scalar pixel type\n",
      "Reference image: 0x748fd8ef2cc8\n",
      "=============================================================================\n",
      "The composite transform comprises the following transforms (in order): \n",
      "  1. /tmp/tmpi52lc7ly0GenericAffine.mat (type = AffineTransform)\n",
      "  2. /tmp/tmpi52lc7ly1Warp.nii.gz (type = DisplacementFieldTransform)\n",
      "=============================================================================\n",
      "Default pixel value: 0\n",
      "Interpolation type: LinearInterpolateImageFunction\n",
      "Output warped image: 0x748fd8527368\n"
     ]
    }
   ],
   "execution_count": 13
  },
  {
   "cell_type": "code",
   "metadata": {
    "ExecuteTime": {
     "end_time": "2025-01-19T16:09:45.251095Z",
     "start_time": "2025-01-19T16:09:45.001601Z"
    }
   },
   "source": [
    "explore_3D_array_with_mask_contour(\n",
    "    arr=registered_img_ants.numpy(),\n",
    "    mask=registered_mask_img_ants.numpy()\n",
    ")"
   ],
   "outputs": [
    {
     "data": {
      "text/plain": [
       "interactive(children=(IntSlider(value=94, description='SLICE', max=188), Output()), _dom_classes=('widget-inte…"
      ],
      "application/vnd.jupyter.widget-view+json": {
       "version_major": 2,
       "version_minor": 0,
       "model_id": "b2dc5c3dde324647b55d6b11a2230e87"
      }
     },
     "metadata": {},
     "output_type": "display_data"
    }
   ],
   "execution_count": 14
  },
  {
   "cell_type": "code",
   "metadata": {
    "ExecuteTime": {
     "end_time": "2025-01-19T16:09:45.310305Z",
     "start_time": "2025-01-19T16:09:45.301356Z"
    }
   },
   "source": [
    "out_filename = add_suffix_to_filename(mask_example, suffix='registered')\n",
    "out_path = os.path.join(out_folder, out_filename)\n",
    "\n",
    "print(out_path[len(BASE_DIR):])"
   ],
   "outputs": [
    {
     "name": "stdout",
     "output_type": "stream",
     "text": [
      "/assets/preprocessed/brain-lesion_T1w/brain-lesion_T1w_mask_registered.nii.gz\n"
     ]
    }
   ],
   "execution_count": 15
  },
  {
   "cell_type": "code",
   "metadata": {
    "ExecuteTime": {
     "end_time": "2025-01-19T16:09:45.409518Z",
     "start_time": "2025-01-19T16:09:45.356035Z"
    }
   },
   "source": [
    "registered_mask_img_ants.to_file(out_path)"
   ],
   "outputs": [],
   "execution_count": 16
  }
 ],
 "metadata": {
  "interpreter": {
   "hash": "418825faa255fc22419b3421ba9be6bb08852f7738a4e2e9757a921549f74527"
  },
  "kernelspec": {
   "display_name": "Python 3.7.1 64-bit ('.venv': venv)",
   "language": "python",
   "name": "python3"
  },
  "language_info": {
   "codemirror_mode": {
    "name": "ipython",
    "version": 3
   },
   "file_extension": ".py",
   "mimetype": "text/x-python",
   "name": "python",
   "nbconvert_exporter": "python",
   "pygments_lexer": "ipython3",
   "version": "3.7.1"
  },
  "orig_nbformat": 4
 },
 "nbformat": 4,
 "nbformat_minor": 2
}
